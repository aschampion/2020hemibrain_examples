{
 "cells": [
  {
   "cell_type": "markdown",
   "metadata": {},
   "source": [
    "# AL glomeruli meshes\n",
    "In this notebook we will demonstrate the generation of meshes from synapse point clouds."
   ]
  },
  {
   "cell_type": "code",
   "execution_count": 12,
   "metadata": {},
   "outputs": [],
   "source": [
    "import navis\n",
    "\n",
    "import numpy as np\n",
    "import pandas as pd\n",
    "import seaborn as sns\n",
    "import trimesh as tm\n",
    "import multiprocessing as mp\n",
    "import matplotlib.pyplot as plt\n",
    "import navis.interfaces.neuprint as neu\n",
    "\n",
    "from tqdm.auto import tqdm\n",
    "from scipy import ndimage, stats\n",
    "from skimage import measure\n",
    "from itertools import product\n",
    "\n",
    "client = neu.Client('https://neuprint.janelia.org', dataset='hemibrain:v1.2')"
   ]
  },
  {
   "cell_type": "markdown",
   "metadata": {},
   "source": [
    "First, we need to generate Gaussian KDEs for each glomerulus"
   ]
  },
  {
   "cell_type": "code",
   "execution_count": 2,
   "metadata": {},
   "outputs": [],
   "source": [
    "# Fetch the AL mesh\n",
    "al = neu.fetch_roi('AL(R)')"
   ]
  },
  {
   "cell_type": "code",
   "execution_count": 3,
   "metadata": {},
   "outputs": [
    {
     "data": {
      "text/html": [
       "<div>\n",
       "<style scoped>\n",
       "    .dataframe tbody tr th:only-of-type {\n",
       "        vertical-align: middle;\n",
       "    }\n",
       "\n",
       "    .dataframe tbody tr th {\n",
       "        vertical-align: top;\n",
       "    }\n",
       "\n",
       "    .dataframe thead th {\n",
       "        text-align: right;\n",
       "    }\n",
       "</style>\n",
       "<table border=\"1\" class=\"dataframe\">\n",
       "  <thead>\n",
       "    <tr style=\"text-align: right;\">\n",
       "      <th></th>\n",
       "      <th>Unnamed: 0</th>\n",
       "      <th>bodyid</th>\n",
       "      <th>name</th>\n",
       "      <th>type</th>\n",
       "      <th>glomerulus</th>\n",
       "      <th>soma_side</th>\n",
       "      <th>modality</th>\n",
       "      <th>cable.length.glom.um</th>\n",
       "      <th>presyn</th>\n",
       "      <th>presyn.glom</th>\n",
       "      <th>notes</th>\n",
       "    </tr>\n",
       "  </thead>\n",
       "  <tbody>\n",
       "    <tr>\n",
       "      <th>0</th>\n",
       "      <td>67</td>\n",
       "      <td>1605204239</td>\n",
       "      <td>ORN_D</td>\n",
       "      <td>ORN_D</td>\n",
       "      <td>D</td>\n",
       "      <td>NaN</td>\n",
       "      <td>olfactory</td>\n",
       "      <td>NaN</td>\n",
       "      <td>NaN</td>\n",
       "      <td>NaN</td>\n",
       "      <td>NaN</td>\n",
       "    </tr>\n",
       "    <tr>\n",
       "      <th>1</th>\n",
       "      <td>90</td>\n",
       "      <td>5812993853</td>\n",
       "      <td>ORN_D</td>\n",
       "      <td>ORN_D</td>\n",
       "      <td>D</td>\n",
       "      <td>NaN</td>\n",
       "      <td>olfactory</td>\n",
       "      <td>NaN</td>\n",
       "      <td>NaN</td>\n",
       "      <td>NaN</td>\n",
       "      <td>NaN</td>\n",
       "    </tr>\n",
       "    <tr>\n",
       "      <th>2</th>\n",
       "      <td>89</td>\n",
       "      <td>1703359176</td>\n",
       "      <td>ORN_D</td>\n",
       "      <td>ORN_D</td>\n",
       "      <td>D</td>\n",
       "      <td>NaN</td>\n",
       "      <td>olfactory</td>\n",
       "      <td>NaN</td>\n",
       "      <td>NaN</td>\n",
       "      <td>NaN</td>\n",
       "      <td>NaN</td>\n",
       "    </tr>\n",
       "    <tr>\n",
       "      <th>3</th>\n",
       "      <td>88</td>\n",
       "      <td>1701343239</td>\n",
       "      <td>ORN_D</td>\n",
       "      <td>ORN_D</td>\n",
       "      <td>D</td>\n",
       "      <td>NaN</td>\n",
       "      <td>olfactory</td>\n",
       "      <td>NaN</td>\n",
       "      <td>NaN</td>\n",
       "      <td>NaN</td>\n",
       "      <td>NaN</td>\n",
       "    </tr>\n",
       "    <tr>\n",
       "      <th>4</th>\n",
       "      <td>87</td>\n",
       "      <td>1671970762</td>\n",
       "      <td>ORN_D</td>\n",
       "      <td>ORN_D</td>\n",
       "      <td>D</td>\n",
       "      <td>NaN</td>\n",
       "      <td>olfactory</td>\n",
       "      <td>NaN</td>\n",
       "      <td>NaN</td>\n",
       "      <td>NaN</td>\n",
       "      <td>NaN</td>\n",
       "    </tr>\n",
       "  </tbody>\n",
       "</table>\n",
       "</div>"
      ],
      "text/plain": [
       "   Unnamed: 0      bodyid   name   type glomerulus soma_side   modality  \\\n",
       "0          67  1605204239  ORN_D  ORN_D          D       NaN  olfactory   \n",
       "1          90  5812993853  ORN_D  ORN_D          D       NaN  olfactory   \n",
       "2          89  1703359176  ORN_D  ORN_D          D       NaN  olfactory   \n",
       "3          88  1701343239  ORN_D  ORN_D          D       NaN  olfactory   \n",
       "4          87  1671970762  ORN_D  ORN_D          D       NaN  olfactory   \n",
       "\n",
       "   cable.length.glom.um  presyn  presyn.glom notes  \n",
       "0                   NaN     NaN          NaN   NaN  \n",
       "1                   NaN     NaN          NaN   NaN  \n",
       "2                   NaN     NaN          NaN   NaN  \n",
       "3                   NaN     NaN          NaN   NaN  \n",
       "4                   NaN     NaN          NaN   NaN  "
      ]
     },
     "execution_count": 3,
     "metadata": {},
     "output_type": "execute_result"
    }
   ],
   "source": [
    "# Get a list of RNs\n",
    "rns = pd.read_csv('https://github.com/flyconnectome/hemibrain_olf_data/raw/master/FIB_RNs.csv')\n",
    "\n",
    "# Skip those without glomerulus \n",
    "rns = rns[~rns.glomerulus.isnull()]\n",
    "\n",
    "# Drop the \"VM6\" (i.e. those that could not be assigned to a subpopulation)\n",
    "rns = rns[rns.glomerulus != 'VM6']\n",
    "\n",
    "rns.head()"
   ]
  },
  {
   "cell_type": "code",
   "execution_count": 6,
   "metadata": {},
   "outputs": [
    {
     "data": {
      "application/vnd.jupyter.widget-view+json": {
       "model_id": "e6c935671b114d7c99add3fdb4d79dd6",
       "version_major": 2,
       "version_minor": 0
      },
      "text/plain": [
       "  0%|          | 0/264 [00:00<?, ?it/s]"
      ]
     },
     "metadata": {},
     "output_type": "display_data"
    },
    {
     "data": {
      "text/html": [
       "<div>\n",
       "<style scoped>\n",
       "    .dataframe tbody tr th:only-of-type {\n",
       "        vertical-align: middle;\n",
       "    }\n",
       "\n",
       "    .dataframe tbody tr th {\n",
       "        vertical-align: top;\n",
       "    }\n",
       "\n",
       "    .dataframe thead th {\n",
       "        text-align: right;\n",
       "    }\n",
       "</style>\n",
       "<table border=\"1\" class=\"dataframe\">\n",
       "  <thead>\n",
       "    <tr style=\"text-align: right;\">\n",
       "      <th></th>\n",
       "      <th>bodyId</th>\n",
       "      <th>type</th>\n",
       "      <th>roi</th>\n",
       "      <th>x</th>\n",
       "      <th>y</th>\n",
       "      <th>z</th>\n",
       "      <th>confidence</th>\n",
       "    </tr>\n",
       "  </thead>\n",
       "  <tbody>\n",
       "    <tr>\n",
       "      <th>0</th>\n",
       "      <td>1793696526</td>\n",
       "      <td>pre</td>\n",
       "      <td>AL(R)</td>\n",
       "      <td>17192</td>\n",
       "      <td>32259</td>\n",
       "      <td>26782</td>\n",
       "      <td>0.991</td>\n",
       "    </tr>\n",
       "    <tr>\n",
       "      <th>1</th>\n",
       "      <td>1793696526</td>\n",
       "      <td>pre</td>\n",
       "      <td>AL(R)</td>\n",
       "      <td>17126</td>\n",
       "      <td>32324</td>\n",
       "      <td>26735</td>\n",
       "      <td>0.994</td>\n",
       "    </tr>\n",
       "    <tr>\n",
       "      <th>2</th>\n",
       "      <td>1793696526</td>\n",
       "      <td>pre</td>\n",
       "      <td>AL(R)</td>\n",
       "      <td>15756</td>\n",
       "      <td>31846</td>\n",
       "      <td>25752</td>\n",
       "      <td>0.975</td>\n",
       "    </tr>\n",
       "    <tr>\n",
       "      <th>3</th>\n",
       "      <td>1793696526</td>\n",
       "      <td>pre</td>\n",
       "      <td>AL(R)</td>\n",
       "      <td>15803</td>\n",
       "      <td>31849</td>\n",
       "      <td>25748</td>\n",
       "      <td>0.961</td>\n",
       "    </tr>\n",
       "    <tr>\n",
       "      <th>4</th>\n",
       "      <td>1793696526</td>\n",
       "      <td>pre</td>\n",
       "      <td>AL(R)</td>\n",
       "      <td>16615</td>\n",
       "      <td>31421</td>\n",
       "      <td>28147</td>\n",
       "      <td>0.974</td>\n",
       "    </tr>\n",
       "  </tbody>\n",
       "</table>\n",
       "</div>"
      ],
      "text/plain": [
       "       bodyId type    roi      x      y      z  confidence\n",
       "0  1793696526  pre  AL(R)  17192  32259  26782       0.991\n",
       "1  1793696526  pre  AL(R)  17126  32324  26735       0.994\n",
       "2  1793696526  pre  AL(R)  15756  31846  25752       0.975\n",
       "3  1793696526  pre  AL(R)  15803  31849  25748       0.961\n",
       "4  1793696526  pre  AL(R)  16615  31421  28147       0.974"
      ]
     },
     "execution_count": 6,
     "metadata": {},
     "output_type": "execute_result"
    }
   ],
   "source": [
    "# Fetch all the synapses\n",
    "syn = neu.fetch_synapses(neu.SegmentCriteria(bodyId=rns.bodyid.values))\n",
    "syn = syn[syn.roi == 'AL(R)']\n",
    "syn.head()"
   ]
  },
  {
   "cell_type": "markdown",
   "metadata": {},
   "source": [
    "Let's see how many synapses we have per glomerulus"
   ]
  },
  {
   "cell_type": "code",
   "execution_count": 7,
   "metadata": {},
   "outputs": [
    {
     "data": {
      "text/html": [
       "<div>\n",
       "<style scoped>\n",
       "    .dataframe tbody tr th:only-of-type {\n",
       "        vertical-align: middle;\n",
       "    }\n",
       "\n",
       "    .dataframe tbody tr th {\n",
       "        vertical-align: top;\n",
       "    }\n",
       "\n",
       "    .dataframe thead th {\n",
       "        text-align: right;\n",
       "    }\n",
       "</style>\n",
       "<table border=\"1\" class=\"dataframe\">\n",
       "  <thead>\n",
       "    <tr style=\"text-align: right;\">\n",
       "      <th></th>\n",
       "      <th>glomerulus</th>\n",
       "      <th>n_rns</th>\n",
       "      <th>n_pre</th>\n",
       "      <th>n_post</th>\n",
       "    </tr>\n",
       "  </thead>\n",
       "  <tbody>\n",
       "    <tr>\n",
       "      <th>43</th>\n",
       "      <td>VM2</td>\n",
       "      <td>1</td>\n",
       "      <td>19</td>\n",
       "      <td>29</td>\n",
       "    </tr>\n",
       "    <tr>\n",
       "      <th>56</th>\n",
       "      <td>VP2</td>\n",
       "      <td>3</td>\n",
       "      <td>1259</td>\n",
       "      <td>1601</td>\n",
       "    </tr>\n",
       "    <tr>\n",
       "      <th>57</th>\n",
       "      <td>VP3</td>\n",
       "      <td>4</td>\n",
       "      <td>2333</td>\n",
       "      <td>2258</td>\n",
       "    </tr>\n",
       "    <tr>\n",
       "      <th>54</th>\n",
       "      <td>VP1l</td>\n",
       "      <td>6</td>\n",
       "      <td>1493</td>\n",
       "      <td>2400</td>\n",
       "    </tr>\n",
       "    <tr>\n",
       "      <th>55</th>\n",
       "      <td>VP1m</td>\n",
       "      <td>6</td>\n",
       "      <td>1849</td>\n",
       "      <td>3032</td>\n",
       "    </tr>\n",
       "  </tbody>\n",
       "</table>\n",
       "</div>"
      ],
      "text/plain": [
       "   glomerulus  n_rns  n_pre  n_post\n",
       "43        VM2      1     19      29\n",
       "56        VP2      3   1259    1601\n",
       "57        VP3      4   2333    2258\n",
       "54       VP1l      6   1493    2400\n",
       "55       VP1m      6   1849    3032"
      ]
     },
     "execution_count": 7,
     "metadata": {},
     "output_type": "execute_result"
    }
   ],
   "source": [
    "numbers = []\n",
    "for g in rns.glomerulus.unique():\n",
    "    this_rns = rns[rns.glomerulus == g]\n",
    "    this_syn = syn[syn.bodyId.isin(this_rns.bodyid.values)]\n",
    "    \n",
    "    numbers.append([g, len(this_rns),\n",
    "                    this_syn[this_syn.type == 'pre'].shape[0],\n",
    "                    this_syn[this_syn.type == 'post'].shape[0]])\n",
    "syn_numbers = pd.DataFrame(numbers, columns=['glomerulus', 'n_rns', 'n_pre', 'n_post']).sort_values(['n_rns', 'n_pre'])\n",
    "syn_numbers.head()"
   ]
  },
  {
   "cell_type": "code",
   "execution_count": 10,
   "metadata": {},
   "outputs": [
    {
     "data": {
      "image/png": "[encoded data removed]",
      "text/plain": [
       "<Figure size 432x432 with 1 Axes>"
      ]
     },
     "metadata": {
      "needs_background": "light"
     },
     "output_type": "display_data"
    }
   ],
   "source": [
    "# A quick plot\n",
    "fig, ax = navis.plot2d([al], method='3d')\n",
    "\n",
    "gloms = rns.glomerulus.unique()\n",
    "cols = sns.color_palette('hls', len(gloms))\n",
    "for i,g in enumerate(gloms):\n",
    "    to_plot = syn[syn.bodyId.isin(rns[rns.glomerulus == g].bodyid.values)]\n",
    "    navis.plot2d(to_plot[['x','y','z']].values, ax=ax,\n",
    "                 method='3d', scatter_kws=dict(color=cols[i]))\n",
    "\n",
    "# Top view\n",
    "ax.elev = ax.azim = -90"
   ]
  },
  {
   "cell_type": "markdown",
   "metadata": {},
   "source": [
    "Now generate the KDEs "
   ]
  },
  {
   "cell_type": "code",
   "execution_count": 13,
   "metadata": {},
   "outputs": [
    {
     "data": {
      "application/vnd.jupyter.widget-view+json": {
       "model_id": "0e1fbf15ebea4620b113cbf84a59d0cc",
       "version_major": 2,
       "version_minor": 0
      },
      "text/plain": [
       "  0%|          | 0/60 [00:00<?, ?it/s]"
      ]
     },
     "metadata": {},
     "output_type": "display_data"
    },
    {
     "name": "stdout",
     "output_type": "stream",
     "text": [
      "KDEs for 59 generated.\n"
     ]
    }
   ],
   "source": [
    "glom_kde = {}\n",
    "is_pre = syn['type'] == 'pre'\n",
    "for g in tqdm(rns.glomerulus.unique()):\n",
    "    # Skip VM2 -> too few RNs/synapses\n",
    "    if g == 'VM2':\n",
    "        continue\n",
    "    \n",
    "    locs = syn.loc[is_pre & (syn.bodyId.isin(rns[rns.glomerulus == g].bodyid.values)), ['x', 'y', 'z']].values\n",
    "    glom_kde[g] = stats.gaussian_kde(locs.T)\n",
    "    \n",
    "gloms = list(glom_kde.keys())\n",
    "print(f'KDEs for {len(gloms)} generated.')"
   ]
  },
  {
   "cell_type": "markdown",
   "metadata": {},
   "source": [
    "Next: tile the AL into isotropic voxels"
   ]
  },
  {
   "cell_type": "code",
   "execution_count": 14,
   "metadata": {},
   "outputs": [],
   "source": [
    "# Voxel size in pixel (1px = 8nm)\n",
    "res = 60 # = 480nm\n",
    "padding = 250\n",
    "xco = np.arange(al.bbox[0][0] - padding, al.bbox[1][0] + padding, res)\n",
    "yco = np.arange(al.bbox[0][1] - padding, al.bbox[1][1] + padding, res)\n",
    "zco = np.arange(al.bbox[0][2] - padding, al.bbox[1][2] + padding, res)\n",
    "\n",
    "i = np.arange(0, xco.shape[0], 1)\n",
    "j = np.arange(0, yco.shape[0], 1)\n",
    "k = np.arange(0, zco.shape[0], 1)\n",
    "\n",
    "ii, jj, kk = np.meshgrid(i, j, k)\n",
    "xx, yy, zz = np.meshgrid(xco, yco, zco)"
   ]
  },
  {
   "cell_type": "code",
   "execution_count": 15,
   "metadata": {},
   "outputs": [
    {
     "data": {
      "text/html": [
       "<div>\n",
       "<style scoped>\n",
       "    .dataframe tbody tr th:only-of-type {\n",
       "        vertical-align: middle;\n",
       "    }\n",
       "\n",
       "    .dataframe tbody tr th {\n",
       "        vertical-align: top;\n",
       "    }\n",
       "\n",
       "    .dataframe thead th {\n",
       "        text-align: right;\n",
       "    }\n",
       "</style>\n",
       "<table border=\"1\" class=\"dataframe\">\n",
       "  <thead>\n",
       "    <tr style=\"text-align: right;\">\n",
       "      <th></th>\n",
       "      <th>x</th>\n",
       "      <th>y</th>\n",
       "      <th>z</th>\n",
       "      <th>i</th>\n",
       "      <th>j</th>\n",
       "      <th>k</th>\n",
       "    </tr>\n",
       "  </thead>\n",
       "  <tbody>\n",
       "    <tr>\n",
       "      <th>0</th>\n",
       "      <td>13302.017578</td>\n",
       "      <td>25340.625</td>\n",
       "      <td>22298.712891</td>\n",
       "      <td>0</td>\n",
       "      <td>0</td>\n",
       "      <td>0</td>\n",
       "    </tr>\n",
       "    <tr>\n",
       "      <th>1</th>\n",
       "      <td>13302.017578</td>\n",
       "      <td>25340.625</td>\n",
       "      <td>22358.712891</td>\n",
       "      <td>0</td>\n",
       "      <td>0</td>\n",
       "      <td>1</td>\n",
       "    </tr>\n",
       "    <tr>\n",
       "      <th>2</th>\n",
       "      <td>13302.017578</td>\n",
       "      <td>25340.625</td>\n",
       "      <td>22418.712891</td>\n",
       "      <td>0</td>\n",
       "      <td>0</td>\n",
       "      <td>2</td>\n",
       "    </tr>\n",
       "    <tr>\n",
       "      <th>3</th>\n",
       "      <td>13302.017578</td>\n",
       "      <td>25340.625</td>\n",
       "      <td>22478.712891</td>\n",
       "      <td>0</td>\n",
       "      <td>0</td>\n",
       "      <td>3</td>\n",
       "    </tr>\n",
       "    <tr>\n",
       "      <th>4</th>\n",
       "      <td>13302.017578</td>\n",
       "      <td>25340.625</td>\n",
       "      <td>22538.712891</td>\n",
       "      <td>0</td>\n",
       "      <td>0</td>\n",
       "      <td>4</td>\n",
       "    </tr>\n",
       "  </tbody>\n",
       "</table>\n",
       "</div>"
      ],
      "text/plain": [
       "              x          y             z  i  j  k\n",
       "0  13302.017578  25340.625  22298.712891  0  0  0\n",
       "1  13302.017578  25340.625  22358.712891  0  0  1\n",
       "2  13302.017578  25340.625  22418.712891  0  0  2\n",
       "3  13302.017578  25340.625  22478.712891  0  0  3\n",
       "4  13302.017578  25340.625  22538.712891  0  0  4"
      ]
     },
     "execution_count": 15,
     "metadata": {},
     "output_type": "execute_result"
    }
   ],
   "source": [
    "# Turn the voxel coordinates into a DataFrame\n",
    "voxels = np.vstack((xx.flatten(), yy.flatten(), zz.flatten())).T\n",
    "voxels = pd.DataFrame(voxels, columns=['x', 'y', 'z'])\n",
    "\n",
    "# This is the index of each voxel\n",
    "voxels['i'] = ii.flatten()\n",
    "voxels['j'] = jj.flatten()\n",
    "voxels['k'] = kk.flatten()\n",
    "\n",
    "voxels.head()"
   ]
  },
  {
   "cell_type": "code",
   "execution_count": 16,
   "metadata": {},
   "outputs": [
    {
     "name": "stdout",
     "output_type": "stream",
     "text": [
      "AL tiled into 8870400 isotropic voxels\n"
     ]
    }
   ],
   "source": [
    "print(f'AL tiled into {voxels.shape[0]} isotropic voxels')"
   ]
  },
  {
   "cell_type": "markdown",
   "metadata": {},
   "source": [
    "Next up: for each glomerulus calculate the PDF over all voxels."
   ]
  },
  {
   "cell_type": "code",
   "execution_count": null,
   "metadata": {},
   "outputs": [],
   "source": [
    "def _worker_wrapper(x):\n",
    "    \"\"\"Helper class to run this on multiple_cores\"\"\"\n",
    "    f, args, kwargs = x\n",
    "    return f(*args, **kwargs)\n",
    "\n",
    "# Prepare combination to be distributed across cores\n",
    "combinations = []\n",
    "for g in list(glom_kde):\n",
    "    combinations.append([glom_kde[g], [voxels[['x','y','z']].values.T], {}])\n",
    "\n",
    "# Run the actual porcessing\n",
    "with mp.Pool(n_cores=5) as pool:        \n",
    "    results = list(tqdm(pool.imap(_worker_wrapper,\n",
    "                              combinations,\n",
    "                              chunksize=1),\n",
    "                        total=len(combinations),\n",
    "                        desc='Calc.'))\n",
    "\n",
    "# Add the results to the Dataframe\n",
    "for g, r in zip(glom_kde, results):\n",
    "    voxels[g] = r"
   ]
  },
  {
   "cell_type": "code",
   "execution_count": 15,
   "metadata": {},
   "outputs": [
    {
     "data": {
      "text/html": [
       "<div>\n",
       "<style scoped>\n",
       "    .dataframe tbody tr th:only-of-type {\n",
       "        vertical-align: middle;\n",
       "    }\n",
       "\n",
       "    .dataframe tbody tr th {\n",
       "        vertical-align: top;\n",
       "    }\n",
       "\n",
       "    .dataframe thead th {\n",
       "        text-align: right;\n",
       "    }\n",
       "</style>\n",
       "<table border=\"1\" class=\"dataframe\">\n",
       "  <thead>\n",
       "    <tr style=\"text-align: right;\">\n",
       "      <th></th>\n",
       "      <th>x</th>\n",
       "      <th>y</th>\n",
       "      <th>z</th>\n",
       "      <th>i</th>\n",
       "      <th>j</th>\n",
       "      <th>k</th>\n",
       "      <th>D</th>\n",
       "      <th>DA1</th>\n",
       "      <th>DA2</th>\n",
       "      <th>DA3</th>\n",
       "      <th>...</th>\n",
       "      <th>VM6v</th>\n",
       "      <th>VM7d</th>\n",
       "      <th>VM7v</th>\n",
       "      <th>VP1d</th>\n",
       "      <th>VP1l</th>\n",
       "      <th>VP1m</th>\n",
       "      <th>VP2</th>\n",
       "      <th>VP3</th>\n",
       "      <th>VP4</th>\n",
       "      <th>VP5</th>\n",
       "    </tr>\n",
       "  </thead>\n",
       "  <tbody>\n",
       "    <tr>\n",
       "      <th>0</th>\n",
       "      <td>13302.017578</td>\n",
       "      <td>25340.625</td>\n",
       "      <td>22298.712891</td>\n",
       "      <td>0</td>\n",
       "      <td>0</td>\n",
       "      <td>0</td>\n",
       "      <td>0.0</td>\n",
       "      <td>0.0</td>\n",
       "      <td>0.0</td>\n",
       "      <td>0.0</td>\n",
       "      <td>...</td>\n",
       "      <td>0.0</td>\n",
       "      <td>0.0</td>\n",
       "      <td>0.0</td>\n",
       "      <td>1.120007e-208</td>\n",
       "      <td>0.0</td>\n",
       "      <td>0.0</td>\n",
       "      <td>0.0</td>\n",
       "      <td>3.978351e-285</td>\n",
       "      <td>0.0</td>\n",
       "      <td>0.000000e+00</td>\n",
       "    </tr>\n",
       "    <tr>\n",
       "      <th>1</th>\n",
       "      <td>13302.017578</td>\n",
       "      <td>25340.625</td>\n",
       "      <td>22358.712891</td>\n",
       "      <td>0</td>\n",
       "      <td>0</td>\n",
       "      <td>1</td>\n",
       "      <td>0.0</td>\n",
       "      <td>0.0</td>\n",
       "      <td>0.0</td>\n",
       "      <td>0.0</td>\n",
       "      <td>...</td>\n",
       "      <td>0.0</td>\n",
       "      <td>0.0</td>\n",
       "      <td>0.0</td>\n",
       "      <td>3.431222e-207</td>\n",
       "      <td>0.0</td>\n",
       "      <td>0.0</td>\n",
       "      <td>0.0</td>\n",
       "      <td>1.604275e-282</td>\n",
       "      <td>0.0</td>\n",
       "      <td>0.000000e+00</td>\n",
       "    </tr>\n",
       "    <tr>\n",
       "      <th>2</th>\n",
       "      <td>13302.017578</td>\n",
       "      <td>25340.625</td>\n",
       "      <td>22418.712891</td>\n",
       "      <td>0</td>\n",
       "      <td>0</td>\n",
       "      <td>2</td>\n",
       "      <td>0.0</td>\n",
       "      <td>0.0</td>\n",
       "      <td>0.0</td>\n",
       "      <td>0.0</td>\n",
       "      <td>...</td>\n",
       "      <td>0.0</td>\n",
       "      <td>0.0</td>\n",
       "      <td>0.0</td>\n",
       "      <td>1.022927e-205</td>\n",
       "      <td>0.0</td>\n",
       "      <td>0.0</td>\n",
       "      <td>0.0</td>\n",
       "      <td>6.187743e-280</td>\n",
       "      <td>0.0</td>\n",
       "      <td>0.000000e+00</td>\n",
       "    </tr>\n",
       "    <tr>\n",
       "      <th>3</th>\n",
       "      <td>13302.017578</td>\n",
       "      <td>25340.625</td>\n",
       "      <td>22478.712891</td>\n",
       "      <td>0</td>\n",
       "      <td>0</td>\n",
       "      <td>3</td>\n",
       "      <td>0.0</td>\n",
       "      <td>0.0</td>\n",
       "      <td>0.0</td>\n",
       "      <td>0.0</td>\n",
       "      <td>...</td>\n",
       "      <td>0.0</td>\n",
       "      <td>0.0</td>\n",
       "      <td>0.0</td>\n",
       "      <td>2.967736e-204</td>\n",
       "      <td>0.0</td>\n",
       "      <td>0.0</td>\n",
       "      <td>0.0</td>\n",
       "      <td>2.282701e-277</td>\n",
       "      <td>0.0</td>\n",
       "      <td>0.000000e+00</td>\n",
       "    </tr>\n",
       "    <tr>\n",
       "      <th>4</th>\n",
       "      <td>13302.017578</td>\n",
       "      <td>25340.625</td>\n",
       "      <td>22538.712891</td>\n",
       "      <td>0</td>\n",
       "      <td>0</td>\n",
       "      <td>4</td>\n",
       "      <td>0.0</td>\n",
       "      <td>0.0</td>\n",
       "      <td>0.0</td>\n",
       "      <td>0.0</td>\n",
       "      <td>...</td>\n",
       "      <td>0.0</td>\n",
       "      <td>0.0</td>\n",
       "      <td>0.0</td>\n",
       "      <td>8.379325e-203</td>\n",
       "      <td>0.0</td>\n",
       "      <td>0.0</td>\n",
       "      <td>0.0</td>\n",
       "      <td>8.054117e-275</td>\n",
       "      <td>0.0</td>\n",
       "      <td>1.976263e-323</td>\n",
       "    </tr>\n",
       "  </tbody>\n",
       "</table>\n",
       "<p>5 rows × 65 columns</p>\n",
       "</div>"
      ],
      "text/plain": [
       "              x          y             z  i  j  k    D  DA1  DA2  DA3  ...  \\\n",
       "0  13302.017578  25340.625  22298.712891  0  0  0  0.0  0.0  0.0  0.0  ...   \n",
       "1  13302.017578  25340.625  22358.712891  0  0  1  0.0  0.0  0.0  0.0  ...   \n",
       "2  13302.017578  25340.625  22418.712891  0  0  2  0.0  0.0  0.0  0.0  ...   \n",
       "3  13302.017578  25340.625  22478.712891  0  0  3  0.0  0.0  0.0  0.0  ...   \n",
       "4  13302.017578  25340.625  22538.712891  0  0  4  0.0  0.0  0.0  0.0  ...   \n",
       "\n",
       "   VM6v  VM7d  VM7v           VP1d  VP1l  VP1m  VP2            VP3  VP4  \\\n",
       "0   0.0   0.0   0.0  1.120007e-208   0.0   0.0  0.0  3.978351e-285  0.0   \n",
       "1   0.0   0.0   0.0  3.431222e-207   0.0   0.0  0.0  1.604275e-282  0.0   \n",
       "2   0.0   0.0   0.0  1.022927e-205   0.0   0.0  0.0  6.187743e-280  0.0   \n",
       "3   0.0   0.0   0.0  2.967736e-204   0.0   0.0  0.0  2.282701e-277  0.0   \n",
       "4   0.0   0.0   0.0  8.379325e-203   0.0   0.0  0.0  8.054117e-275  0.0   \n",
       "\n",
       "             VP5  \n",
       "0   0.000000e+00  \n",
       "1   0.000000e+00  \n",
       "2   0.000000e+00  \n",
       "3   0.000000e+00  \n",
       "4  1.976263e-323  \n",
       "\n",
       "[5 rows x 65 columns]"
      ]
     },
     "execution_count": 15,
     "metadata": {},
     "output_type": "execute_result"
    }
   ],
   "source": [
    "voxels.head()"
   ]
  },
  {
   "cell_type": "markdown",
   "metadata": {},
   "source": [
    "We empirically determined a good threshold to determine whether a voxel is inside any glomerulus: `1e-11`"
   ]
  },
  {
   "cell_type": "code",
   "execution_count": 23,
   "metadata": {},
   "outputs": [],
   "source": [
    "# Assign a glomerulus to each voxel based on the max probability\n",
    "voxels['glom'] = np.array(gloms)[np.argmax(voxels[gloms].values, axis=1)]"
   ]
  },
  {
   "cell_type": "code",
   "execution_count": 35,
   "metadata": {},
   "outputs": [],
   "source": [
    "# Remove voxels that are outside of any glomerulus and outside the AL\n",
    "vxl_in = voxels.loc[(voxels[gloms].max(axis=1) >= 1e-11) & voxels.in_al].copy()"
   ]
  },
  {
   "cell_type": "code",
   "execution_count": 68,
   "metadata": {},
   "outputs": [
    {
     "data": {
      "text/html": [
       "<div>\n",
       "<style scoped>\n",
       "    .dataframe tbody tr th:only-of-type {\n",
       "        vertical-align: middle;\n",
       "    }\n",
       "\n",
       "    .dataframe tbody tr th {\n",
       "        vertical-align: top;\n",
       "    }\n",
       "\n",
       "    .dataframe thead th {\n",
       "        text-align: right;\n",
       "    }\n",
       "</style>\n",
       "<table border=\"1\" class=\"dataframe\">\n",
       "  <thead>\n",
       "    <tr style=\"text-align: right;\">\n",
       "      <th></th>\n",
       "      <th>x</th>\n",
       "      <th>y</th>\n",
       "      <th>z</th>\n",
       "      <th>i</th>\n",
       "      <th>j</th>\n",
       "      <th>k</th>\n",
       "      <th>D</th>\n",
       "      <th>DA1</th>\n",
       "      <th>DA2</th>\n",
       "      <th>DA3</th>\n",
       "      <th>...</th>\n",
       "      <th>VM7v</th>\n",
       "      <th>VP1d</th>\n",
       "      <th>VP1l</th>\n",
       "      <th>VP1m</th>\n",
       "      <th>VP2</th>\n",
       "      <th>VP3</th>\n",
       "      <th>VP4</th>\n",
       "      <th>VP5</th>\n",
       "      <th>in_al</th>\n",
       "      <th>glom</th>\n",
       "    </tr>\n",
       "  </thead>\n",
       "  <tbody>\n",
       "    <tr>\n",
       "      <th>703722</th>\n",
       "      <td>20864.550781</td>\n",
       "      <td>26300.605469</td>\n",
       "      <td>32019.431641</td>\n",
       "      <td>126</td>\n",
       "      <td>16</td>\n",
       "      <td>162</td>\n",
       "      <td>0.0</td>\n",
       "      <td>0.0</td>\n",
       "      <td>0.0</td>\n",
       "      <td>0.0</td>\n",
       "      <td>...</td>\n",
       "      <td>1.742576e-217</td>\n",
       "      <td>1.308040e-18</td>\n",
       "      <td>5.997934e-74</td>\n",
       "      <td>9.994886e-17</td>\n",
       "      <td>1.213822e-11</td>\n",
       "      <td>6.805587e-22</td>\n",
       "      <td>1.956557e-170</td>\n",
       "      <td>1.839614e-15</td>\n",
       "      <td>True</td>\n",
       "      <td>VP2</td>\n",
       "    </tr>\n",
       "    <tr>\n",
       "      <th>703941</th>\n",
       "      <td>20924.550781</td>\n",
       "      <td>26300.605469</td>\n",
       "      <td>31959.431641</td>\n",
       "      <td>127</td>\n",
       "      <td>16</td>\n",
       "      <td>161</td>\n",
       "      <td>0.0</td>\n",
       "      <td>0.0</td>\n",
       "      <td>0.0</td>\n",
       "      <td>0.0</td>\n",
       "      <td>...</td>\n",
       "      <td>6.582122e-215</td>\n",
       "      <td>1.891088e-18</td>\n",
       "      <td>2.082268e-74</td>\n",
       "      <td>2.984522e-17</td>\n",
       "      <td>1.293292e-11</td>\n",
       "      <td>1.649685e-22</td>\n",
       "      <td>1.449189e-167</td>\n",
       "      <td>7.716253e-16</td>\n",
       "      <td>True</td>\n",
       "      <td>VP2</td>\n",
       "    </tr>\n",
       "    <tr>\n",
       "      <th>704159</th>\n",
       "      <td>20984.550781</td>\n",
       "      <td>26300.605469</td>\n",
       "      <td>31839.431641</td>\n",
       "      <td>128</td>\n",
       "      <td>16</td>\n",
       "      <td>159</td>\n",
       "      <td>0.0</td>\n",
       "      <td>0.0</td>\n",
       "      <td>0.0</td>\n",
       "      <td>0.0</td>\n",
       "      <td>...</td>\n",
       "      <td>6.273629e-213</td>\n",
       "      <td>2.484133e-18</td>\n",
       "      <td>1.691703e-73</td>\n",
       "      <td>5.780665e-18</td>\n",
       "      <td>1.204552e-11</td>\n",
       "      <td>6.071207e-23</td>\n",
       "      <td>1.190003e-160</td>\n",
       "      <td>4.825397e-16</td>\n",
       "      <td>True</td>\n",
       "      <td>VP2</td>\n",
       "    </tr>\n",
       "    <tr>\n",
       "      <th>704160</th>\n",
       "      <td>20984.550781</td>\n",
       "      <td>26300.605469</td>\n",
       "      <td>31899.431641</td>\n",
       "      <td>128</td>\n",
       "      <td>16</td>\n",
       "      <td>160</td>\n",
       "      <td>0.0</td>\n",
       "      <td>0.0</td>\n",
       "      <td>0.0</td>\n",
       "      <td>0.0</td>\n",
       "      <td>...</td>\n",
       "      <td>1.423389e-212</td>\n",
       "      <td>2.602190e-18</td>\n",
       "      <td>6.962155e-75</td>\n",
       "      <td>7.465658e-18</td>\n",
       "      <td>1.319247e-11</td>\n",
       "      <td>4.148620e-23</td>\n",
       "      <td>1.003101e-164</td>\n",
       "      <td>3.462586e-16</td>\n",
       "      <td>True</td>\n",
       "      <td>VP2</td>\n",
       "    </tr>\n",
       "    <tr>\n",
       "      <th>705903</th>\n",
       "      <td>21464.550781</td>\n",
       "      <td>26300.605469</td>\n",
       "      <td>30879.431641</td>\n",
       "      <td>136</td>\n",
       "      <td>16</td>\n",
       "      <td>143</td>\n",
       "      <td>0.0</td>\n",
       "      <td>0.0</td>\n",
       "      <td>0.0</td>\n",
       "      <td>0.0</td>\n",
       "      <td>...</td>\n",
       "      <td>7.650873e-218</td>\n",
       "      <td>2.173846e-17</td>\n",
       "      <td>1.321056e-67</td>\n",
       "      <td>6.459012e-28</td>\n",
       "      <td>1.229225e-11</td>\n",
       "      <td>2.050726e-27</td>\n",
       "      <td>2.281523e-111</td>\n",
       "      <td>3.808183e-17</td>\n",
       "      <td>True</td>\n",
       "      <td>VP2</td>\n",
       "    </tr>\n",
       "  </tbody>\n",
       "</table>\n",
       "<p>5 rows × 66 columns</p>\n",
       "</div>"
      ],
      "text/plain": [
       "                   x             y             z    i   j    k    D  DA1  DA2  \\\n",
       "703722  20864.550781  26300.605469  32019.431641  126  16  162  0.0  0.0  0.0   \n",
       "703941  20924.550781  26300.605469  31959.431641  127  16  161  0.0  0.0  0.0   \n",
       "704159  20984.550781  26300.605469  31839.431641  128  16  159  0.0  0.0  0.0   \n",
       "704160  20984.550781  26300.605469  31899.431641  128  16  160  0.0  0.0  0.0   \n",
       "705903  21464.550781  26300.605469  30879.431641  136  16  143  0.0  0.0  0.0   \n",
       "\n",
       "        DA3  ...           VM7v          VP1d          VP1l          VP1m  \\\n",
       "703722  0.0  ...  1.742576e-217  1.308040e-18  5.997934e-74  9.994886e-17   \n",
       "703941  0.0  ...  6.582122e-215  1.891088e-18  2.082268e-74  2.984522e-17   \n",
       "704159  0.0  ...  6.273629e-213  2.484133e-18  1.691703e-73  5.780665e-18   \n",
       "704160  0.0  ...  1.423389e-212  2.602190e-18  6.962155e-75  7.465658e-18   \n",
       "705903  0.0  ...  7.650873e-218  2.173846e-17  1.321056e-67  6.459012e-28   \n",
       "\n",
       "                 VP2           VP3            VP4           VP5  in_al  glom  \n",
       "703722  1.213822e-11  6.805587e-22  1.956557e-170  1.839614e-15   True   VP2  \n",
       "703941  1.293292e-11  1.649685e-22  1.449189e-167  7.716253e-16   True   VP2  \n",
       "704159  1.204552e-11  6.071207e-23  1.190003e-160  4.825397e-16   True   VP2  \n",
       "704160  1.319247e-11  4.148620e-23  1.003101e-164  3.462586e-16   True   VP2  \n",
       "705903  1.229225e-11  2.050726e-27  2.281523e-111  3.808183e-17   True   VP2  \n",
       "\n",
       "[5 rows x 66 columns]"
      ]
     },
     "execution_count": 68,
     "metadata": {},
     "output_type": "execute_result"
    }
   ],
   "source": [
    "vxl_in.head()"
   ]
  },
  {
   "cell_type": "markdown",
   "metadata": {},
   "source": [
    "Now we generate the actual meshes"
   ]
  },
  {
   "cell_type": "code",
   "execution_count": null,
   "metadata": {
    "tags": []
   },
   "outputs": [],
   "source": [
    "# Iterate over all glomerulus\n",
    "for g in tqdm(gloms):\n",
    "    # This the voxels for this glomerulus\n",
    "    this_glom = vxl_in[vxl_in.glom == g] \n",
    "    \n",
    "    # Generate empty matrix\n",
    "    mat = np.zeros((voxels.i.max() + 1, voxels.j.max() + 1, voxels.k.max() + 1))\n",
    "    \n",
    "    # Fill matrix\n",
    "    mat[this_glom.i, this_glom.j, this_glom.k] = 1\n",
    "    \n",
    "    # Remove binary holes\n",
    "    mat = ndimage.binary_fill_holes(mat)    \n",
    "    \n",
    "    # We need one round of erodes to make meshes non-overlapping\n",
    "    mat = ndimage.binary_erosion(mat)\n",
    "\n",
    "    # Run the marching cubes algorithm\n",
    "    verts, faces, normals, values = measure.marching_cubes_lewiner(mat.astype(float), \n",
    "                                                                   level=0,\n",
    "                                                                   allow_degenerate=False, step_size=1)\n",
    "    # Turn from voxel indices back into nm\n",
    "    verts *= res\n",
    "    \n",
    "    # Add offsets\n",
    "    offset = voxels[['x', 'y', 'z']].min(axis=0)\n",
    "    verts += offset\n",
    "    verts += 0.5 * res\n",
    "    \n",
    "    # Turn into a trimesh\n",
    "    new_mesh = tm.Trimesh(vertices=verts, faces=faces, normals=normals)\n",
    "    \n",
    "    # Drop small stuff (anything that makes up less than 10% of the faces)\n",
    "    cc = tm.graph.connected_components(edges=new_mesh.face_adjacency,\n",
    "                                       nodes=np.arange(len(new_mesh.faces)),\n",
    "                                       min_len=1,\n",
    "                                       engine=None)\n",
    "    if len(cc) > 1:\n",
    "        keep = np.concatenate([c for c in cc if len(c) >= 20])\n",
    "        n_faces = new_mesh.faces.shape[0]\n",
    "        new_mesh = new_mesh.submesh([np.concatenate([c for c in cc if ((len(c) / n_faces) >= 0.1)])])[0]\n",
    "        \n",
    "    # Fix normals \n",
    "    new_mesh.fix_normals()    \n",
    "    \n",
    "    # Save to obj file\n",
    "    new_mesh.export(f'{g}.stl')    "
   ]
  }
 ],
 "metadata": {
  "kernelspec": {
   "display_name": "Python 3",
   "language": "python",
   "name": "python3"
  },
  "language_info": {
   "codemirror_mode": {
    "name": "ipython",
    "version": 3
   },
   "file_extension": ".py",
   "mimetype": "text/x-python",
   "name": "python",
   "nbconvert_exporter": "python",
   "pygments_lexer": "ipython3",
   "version": "3.7.5"
  },
  "widgets": {
   "application/vnd.jupyter.widget-state+json": {
    "state": {
     "0325143186a64fbd86afbbd7f4cbed86": {
      "model_module": "@jupyter-widgets/base",
      "model_module_version": "1.2.0",
      "model_name": "LayoutModel",
      "state": {}
     },
     "0b36681cc65e4adab87a05347542cd40": {
      "model_module": "@jupyter-widgets/base",
      "model_module_version": "1.2.0",
      "model_name": "LayoutModel",
      "state": {}
     },
     "0e1fbf15ebea4620b113cbf84a59d0cc": {
      "model_module": "@jupyter-widgets/controls",
      "model_module_version": "1.5.0",
      "model_name": "HBoxModel",
      "state": {
       "children": [
        "IPY_MODEL_e6c5a1be277546b2b1ae317439cdf1cc",
        "IPY_MODEL_555951e28bd34113af3181cb859c163f",
        "IPY_MODEL_418433358cf144999bfef5d80cd70705"
       ],
       "layout": "IPY_MODEL_506192bc7fb148fa906b59d56eb7d098"
      }
     },
     "12288b0ffcdc4f8f958407f712e56cfa": {
      "model_module": "@jupyter-widgets/base",
      "model_module_version": "1.2.0",
      "model_name": "LayoutModel",
      "state": {}
     },
     "357a5f080f0047779b2ce0d4ff877b53": {
      "model_module": "@jupyter-widgets/controls",
      "model_module_version": "1.5.0",
      "model_name": "DescriptionStyleModel",
      "state": {
       "description_width": ""
      }
     },
     "3a9d9a05ba3b409dbd9d081775c5300d": {
      "model_module": "@jupyter-widgets/controls",
      "model_module_version": "1.5.0",
      "model_name": "ProgressStyleModel",
      "state": {
       "description_width": ""
      }
     },
     "3f6b13b68140450e97294cd38c6aa0e7": {
      "model_module": "@jupyter-widgets/controls",
      "model_module_version": "1.5.0",
      "model_name": "ProgressStyleModel",
      "state": {
       "description_width": ""
      }
     },
     "418433358cf144999bfef5d80cd70705": {
      "model_module": "@jupyter-widgets/controls",
      "model_module_version": "1.5.0",
      "model_name": "HTMLModel",
      "state": {
       "layout": "IPY_MODEL_fbf80f1bebc949e7beba083c0e995b32",
       "style": "IPY_MODEL_45e46604d5e34418a88ae157d7f3dd61",
       "value": " 60/60 [00:00&lt;00:00, 154.97it/s]"
      }
     },
     "45e46604d5e34418a88ae157d7f3dd61": {
      "model_module": "@jupyter-widgets/controls",
      "model_module_version": "1.5.0",
      "model_name": "DescriptionStyleModel",
      "state": {
       "description_width": ""
      }
     },
     "506192bc7fb148fa906b59d56eb7d098": {
      "model_module": "@jupyter-widgets/base",
      "model_module_version": "1.2.0",
      "model_name": "LayoutModel",
      "state": {}
     },
     "555951e28bd34113af3181cb859c163f": {
      "model_module": "@jupyter-widgets/controls",
      "model_module_version": "1.5.0",
      "model_name": "FloatProgressModel",
      "state": {
       "bar_style": "success",
       "layout": "IPY_MODEL_862624cb708a414ba4572dd6c604d120",
       "max": 60,
       "style": "IPY_MODEL_3f6b13b68140450e97294cd38c6aa0e7",
       "value": 60
      }
     },
     "6fb1cdb56ea04663915575fdcdd90a10": {
      "model_module": "@jupyter-widgets/base",
      "model_module_version": "1.2.0",
      "model_name": "LayoutModel",
      "state": {}
     },
     "72a8e8d6d86e4f1881ec84708a7fde42": {
      "model_module": "@jupyter-widgets/controls",
      "model_module_version": "1.5.0",
      "model_name": "HTMLModel",
      "state": {
       "layout": "IPY_MODEL_0325143186a64fbd86afbbd7f4cbed86",
       "style": "IPY_MODEL_bcc1ccf2ed304dbf94c349a8e9778d21",
       "value": " 264/264 [01:31&lt;00:00,  4.56it/s]"
      }
     },
     "862624cb708a414ba4572dd6c604d120": {
      "model_module": "@jupyter-widgets/base",
      "model_module_version": "1.2.0",
      "model_name": "LayoutModel",
      "state": {}
     },
     "9a722c78e34a435089bca6a31664956a": {
      "model_module": "@jupyter-widgets/controls",
      "model_module_version": "1.5.0",
      "model_name": "HTMLModel",
      "state": {
       "layout": "IPY_MODEL_ec6e8fd6942c46b8bc466357a0716932",
       "style": "IPY_MODEL_357a5f080f0047779b2ce0d4ff877b53",
       "value": "100%"
      }
     },
     "a27e384ae5af4df29ac1c9820d91f350": {
      "model_module": "@jupyter-widgets/controls",
      "model_module_version": "1.5.0",
      "model_name": "FloatProgressModel",
      "state": {
       "bar_style": "success",
       "layout": "IPY_MODEL_6fb1cdb56ea04663915575fdcdd90a10",
       "max": 264,
       "style": "IPY_MODEL_3a9d9a05ba3b409dbd9d081775c5300d",
       "value": 264
      }
     },
     "afd399f7501f46dd9b1d587b2744c847": {
      "model_module": "@jupyter-widgets/controls",
      "model_module_version": "1.5.0",
      "model_name": "DescriptionStyleModel",
      "state": {
       "description_width": ""
      }
     },
     "bcc1ccf2ed304dbf94c349a8e9778d21": {
      "model_module": "@jupyter-widgets/controls",
      "model_module_version": "1.5.0",
      "model_name": "DescriptionStyleModel",
      "state": {
       "description_width": ""
      }
     },
     "e6c5a1be277546b2b1ae317439cdf1cc": {
      "model_module": "@jupyter-widgets/controls",
      "model_module_version": "1.5.0",
      "model_name": "HTMLModel",
      "state": {
       "layout": "IPY_MODEL_0b36681cc65e4adab87a05347542cd40",
       "style": "IPY_MODEL_afd399f7501f46dd9b1d587b2744c847",
       "value": "100%"
      }
     },
     "e6c935671b114d7c99add3fdb4d79dd6": {
      "model_module": "@jupyter-widgets/controls",
      "model_module_version": "1.5.0",
      "model_name": "HBoxModel",
      "state": {
       "children": [
        "IPY_MODEL_9a722c78e34a435089bca6a31664956a",
        "IPY_MODEL_a27e384ae5af4df29ac1c9820d91f350",
        "IPY_MODEL_72a8e8d6d86e4f1881ec84708a7fde42"
       ],
       "layout": "IPY_MODEL_12288b0ffcdc4f8f958407f712e56cfa"
      }
     },
     "ec6e8fd6942c46b8bc466357a0716932": {
      "model_module": "@jupyter-widgets/base",
      "model_module_version": "1.2.0",
      "model_name": "LayoutModel",
      "state": {}
     },
     "fbf80f1bebc949e7beba083c0e995b32": {
      "model_module": "@jupyter-widgets/base",
      "model_module_version": "1.2.0",
      "model_name": "LayoutModel",
      "state": {}
     }
    },
    "version_major": 2,
    "version_minor": 0
   }
  }
 },
 "nbformat": 4,
 "nbformat_minor": 4
}
