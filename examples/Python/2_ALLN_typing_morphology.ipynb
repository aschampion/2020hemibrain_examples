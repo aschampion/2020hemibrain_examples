{
 "cells": [
  {
   "cell_type": "markdown",
   "metadata": {},
   "source": [
    "## ALLN - Antenna lobe local neuron\n",
    "This notebook contains basic analysis about local neurons in the antenna lobe present in the `hemibrain` dataset. Different analysis include basic summary of the neuron types, plotting etc.\n",
    "\n",
    "### Dependencies\n",
    "You will need the following dependencies which can be installed using `pip`:\n",
    "1. [neuprint-python](https://github.com/connectome-neuprint/neuprint-python): `pip3 install neuprint-python`\n",
    "2. [navis](https://navis.readthedocs.io/en/latest/): `pip3 install navis` \n",
    "\n",
    "In addition, you will need to have your neuPrint authorization token set as environmental variable. See neuprint-python's [docs](https://connectome-neuprint.github.io/neuprint-python/docs/)"
   ]
  },
  {
   "cell_type": "code",
   "execution_count": 1,
   "metadata": {},
   "outputs": [],
   "source": [
    "import os\n",
    "import pandas as pd\n",
    "import numpy as np"
   ]
  },
  {
   "cell_type": "code",
   "execution_count": 2,
   "metadata": {},
   "outputs": [],
   "source": [
    "import seaborn as sns\n",
    "import matplotlib.pyplot as plt\n",
    "from matplotlib.colors import ListedColormap\n",
    "from mpl_toolkits.mplot3d.art3d import Poly3DCollection, Line3DCollection\n",
    "sns.set_color_codes('muted')"
   ]
  },
  {
   "cell_type": "code",
   "execution_count": 3,
   "metadata": {},
   "outputs": [],
   "source": [
    "label_fontsize = 16 \n",
    "title_fontsize = 18"
   ]
  },
  {
   "cell_type": "code",
   "execution_count": 4,
   "metadata": {},
   "outputs": [
    {
     "data": {
      "text/html": [
       "        <script type=\"text/javascript\">\n",
       "        window.PlotlyConfig = {MathJaxConfig: 'local'};\n",
       "        if (window.MathJax) {MathJax.Hub.Config({SVG: {font: \"STIX-Web\"}});}\n",
       "        if (typeof require !== 'undefined') {\n",
       "        require.undef(\"plotly\");\n",
       "        requirejs.config({\n",
       "            paths: {\n",
       "                'plotly': ['https://cdn.plot.ly/plotly-latest.min']\n",
       "            }\n",
       "        });\n",
       "        require(['plotly'], function(Plotly) {\n",
       "            window._Plotly = Plotly;\n",
       "        });\n",
       "        }\n",
       "        </script>\n",
       "        "
      ]
     },
     "metadata": {},
     "output_type": "display_data"
    },
    {
     "name": "stdout",
     "output_type": "stream",
     "text": [
      "navis version: 0.3.2\n"
     ]
    }
   ],
   "source": [
    "import navis\n",
    "print('navis version:', navis.__version__)"
   ]
  },
  {
   "cell_type": "code",
   "execution_count": 5,
   "metadata": {},
   "outputs": [],
   "source": [
    "import navis.interfaces.neuprint as neu\n",
    "client = neu.Client('https://neuprint.janelia.org/', dataset='hemibrain:v1.1')"
   ]
  },
  {
   "cell_type": "code",
   "execution_count": 6,
   "metadata": {},
   "outputs": [],
   "source": [
    "#navis display options for frontal view..\n",
    "elev = -180\n",
    "azim = -90\n",
    "dist = 6"
   ]
  },
  {
   "cell_type": "code",
   "execution_count": null,
   "metadata": {},
   "outputs": [],
   "source": []
  },
  {
   "cell_type": "code",
   "execution_count": null,
   "metadata": {},
   "outputs": [],
   "source": []
  },
  {
   "cell_type": "markdown",
   "metadata": {},
   "source": [
    "# 1. Load the datasheet from the google drive, this will contains bodyIds, types and morphological details"
   ]
  },
  {
   "cell_type": "code",
   "execution_count": 7,
   "metadata": {},
   "outputs": [],
   "source": [
    "url = 'https://drive.google.com/file/d/1ACJ0u7WxjkUil0jJFd5Bkwl3w1MgwUhZ/view?usp=sharing'\n",
    "path = 'https://drive.google.com/uc?export=download&id='+url.split('/')[-2]"
   ]
  },
  {
   "cell_type": "code",
   "execution_count": 8,
   "metadata": {},
   "outputs": [],
   "source": [
    "al_datasheet = pd.read_csv(path)"
   ]
  },
  {
   "cell_type": "code",
   "execution_count": 9,
   "metadata": {},
   "outputs": [
    {
     "data": {
      "text/html": [
       "<div>\n",
       "<style scoped>\n",
       "    .dataframe tbody tr th:only-of-type {\n",
       "        vertical-align: middle;\n",
       "    }\n",
       "\n",
       "    .dataframe tbody tr th {\n",
       "        vertical-align: top;\n",
       "    }\n",
       "\n",
       "    .dataframe thead th {\n",
       "        text-align: right;\n",
       "    }\n",
       "</style>\n",
       "<table border=\"1\" class=\"dataframe\">\n",
       "  <thead>\n",
       "    <tr style=\"text-align: right;\">\n",
       "      <th></th>\n",
       "      <th>bodyid</th>\n",
       "      <th>pre</th>\n",
       "      <th>post</th>\n",
       "      <th>upstream</th>\n",
       "      <th>downstream</th>\n",
       "      <th>status</th>\n",
       "      <th>name</th>\n",
       "      <th>voxels</th>\n",
       "      <th>soma</th>\n",
       "      <th>side</th>\n",
       "      <th>...</th>\n",
       "      <th>axon.outputs</th>\n",
       "      <th>dend.outputs</th>\n",
       "      <th>axon.inputs</th>\n",
       "      <th>dend.inputs</th>\n",
       "      <th>total.length</th>\n",
       "      <th>axon.length</th>\n",
       "      <th>dend.length</th>\n",
       "      <th>pd.length</th>\n",
       "      <th>segregation_index</th>\n",
       "      <th>notes</th>\n",
       "    </tr>\n",
       "  </thead>\n",
       "  <tbody>\n",
       "    <tr>\n",
       "      <th>0</th>\n",
       "      <td>1578826464</td>\n",
       "      <td>1900</td>\n",
       "      <td>7210</td>\n",
       "      <td>7210</td>\n",
       "      <td>7501</td>\n",
       "      <td>Traced</td>\n",
       "      <td>lLN1_c_R</td>\n",
       "      <td>2691885349</td>\n",
       "      <td>True</td>\n",
       "      <td>right</td>\n",
       "      <td>...</td>\n",
       "      <td>2207</td>\n",
       "      <td>5221</td>\n",
       "      <td>2092</td>\n",
       "      <td>5098</td>\n",
       "      <td>9754.820208</td>\n",
       "      <td>2399.378774</td>\n",
       "      <td>5678.107814</td>\n",
       "      <td>66.080358</td>\n",
       "      <td>0.000033</td>\n",
       "      <td>Type: broad LN belonging to the LN1 type (Tana...</td>\n",
       "    </tr>\n",
       "    <tr>\n",
       "      <th>1</th>\n",
       "      <td>1670278227</td>\n",
       "      <td>180</td>\n",
       "      <td>271</td>\n",
       "      <td>271</td>\n",
       "      <td>1044</td>\n",
       "      <td>Traced</td>\n",
       "      <td>lLN11_R</td>\n",
       "      <td>373927384</td>\n",
       "      <td>True</td>\n",
       "      <td>right</td>\n",
       "      <td>...</td>\n",
       "      <td>1038</td>\n",
       "      <td>5</td>\n",
       "      <td>110</td>\n",
       "      <td>160</td>\n",
       "      <td>1372.668174</td>\n",
       "      <td>717.893513</td>\n",
       "      <td>440.538674</td>\n",
       "      <td>39.312691</td>\n",
       "      <td>0.423012</td>\n",
       "      <td>Type: weak regional or sparse LNs with a simil...</td>\n",
       "    </tr>\n",
       "    <tr>\n",
       "      <th>2</th>\n",
       "      <td>1979569670</td>\n",
       "      <td>107</td>\n",
       "      <td>185</td>\n",
       "      <td>185</td>\n",
       "      <td>535</td>\n",
       "      <td>Traced</td>\n",
       "      <td>lLN11_R</td>\n",
       "      <td>271448716</td>\n",
       "      <td>True</td>\n",
       "      <td>right</td>\n",
       "      <td>...</td>\n",
       "      <td>431</td>\n",
       "      <td>89</td>\n",
       "      <td>103</td>\n",
       "      <td>71</td>\n",
       "      <td>886.728404</td>\n",
       "      <td>328.465711</td>\n",
       "      <td>333.355105</td>\n",
       "      <td>118.997320</td>\n",
       "      <td>0.048766</td>\n",
       "      <td>Type: weak regional or sparse LNs with a simil...</td>\n",
       "    </tr>\n",
       "    <tr>\n",
       "      <th>3</th>\n",
       "      <td>2040301572</td>\n",
       "      <td>198</td>\n",
       "      <td>372</td>\n",
       "      <td>372</td>\n",
       "      <td>1116</td>\n",
       "      <td>Traced</td>\n",
       "      <td>lLN11_R</td>\n",
       "      <td>367013585</td>\n",
       "      <td>True</td>\n",
       "      <td>right</td>\n",
       "      <td>...</td>\n",
       "      <td>216</td>\n",
       "      <td>814</td>\n",
       "      <td>29</td>\n",
       "      <td>324</td>\n",
       "      <td>1437.415433</td>\n",
       "      <td>160.300071</td>\n",
       "      <td>918.722654</td>\n",
       "      <td>107.007237</td>\n",
       "      <td>0.021254</td>\n",
       "      <td>Type: weak regional or sparse LNs with a simil...</td>\n",
       "    </tr>\n",
       "    <tr>\n",
       "      <th>4</th>\n",
       "      <td>1826445251</td>\n",
       "      <td>207</td>\n",
       "      <td>381</td>\n",
       "      <td>381</td>\n",
       "      <td>1233</td>\n",
       "      <td>Traced</td>\n",
       "      <td>lLN12a_R</td>\n",
       "      <td>390802154</td>\n",
       "      <td>True</td>\n",
       "      <td>right</td>\n",
       "      <td>...</td>\n",
       "      <td>1221</td>\n",
       "      <td>9</td>\n",
       "      <td>166</td>\n",
       "      <td>211</td>\n",
       "      <td>1667.833740</td>\n",
       "      <td>788.073478</td>\n",
       "      <td>597.583386</td>\n",
       "      <td>32.278918</td>\n",
       "      <td>0.376746</td>\n",
       "      <td>Type: regional LNs that innervate the same are...</td>\n",
       "    </tr>\n",
       "  </tbody>\n",
       "</table>\n",
       "<p>5 rows × 28 columns</p>\n",
       "</div>"
      ],
      "text/plain": [
       "       bodyid   pre  post  upstream  downstream  status      name      voxels  \\\n",
       "0  1578826464  1900  7210      7210        7501  Traced  lLN1_c_R  2691885349   \n",
       "1  1670278227   180   271       271        1044  Traced   lLN11_R   373927384   \n",
       "2  1979569670   107   185       185         535  Traced   lLN11_R   271448716   \n",
       "3  2040301572   198   372       372        1116  Traced   lLN11_R   367013585   \n",
       "4  1826445251   207   381       381        1233  Traced  lLN12a_R   390802154   \n",
       "\n",
       "   soma   side  ... axon.outputs dend.outputs axon.inputs dend.inputs  \\\n",
       "0  True  right  ...         2207         5221        2092        5098   \n",
       "1  True  right  ...         1038            5         110         160   \n",
       "2  True  right  ...          431           89         103          71   \n",
       "3  True  right  ...          216          814          29         324   \n",
       "4  True  right  ...         1221            9         166         211   \n",
       "\n",
       "  total.length  axon.length  dend.length   pd.length  segregation_index  \\\n",
       "0  9754.820208  2399.378774  5678.107814   66.080358           0.000033   \n",
       "1  1372.668174   717.893513   440.538674   39.312691           0.423012   \n",
       "2   886.728404   328.465711   333.355105  118.997320           0.048766   \n",
       "3  1437.415433   160.300071   918.722654  107.007237           0.021254   \n",
       "4  1667.833740   788.073478   597.583386   32.278918           0.376746   \n",
       "\n",
       "                                               notes  \n",
       "0  Type: broad LN belonging to the LN1 type (Tana...  \n",
       "1  Type: weak regional or sparse LNs with a simil...  \n",
       "2  Type: weak regional or sparse LNs with a simil...  \n",
       "3  Type: weak regional or sparse LNs with a simil...  \n",
       "4  Type: regional LNs that innervate the same are...  \n",
       "\n",
       "[5 rows x 28 columns]"
      ]
     },
     "execution_count": 9,
     "metadata": {},
     "output_type": "execute_result"
    }
   ],
   "source": [
    "al_datasheet.head()"
   ]
  },
  {
   "cell_type": "code",
   "execution_count": 10,
   "metadata": {},
   "outputs": [],
   "source": [
    "#filter annotations to usable details now..\n",
    "al_annotations = al_datasheet[['bodyid','name','soma','anatomy.group','segregation_index']]\n",
    "#rename then to neuprint types..\n",
    "al_annotations = al_annotations.rename(columns={'bodyid': 'bodyId', 'name': 'type','anatomy.group': 'morpho_group'})"
   ]
  },
  {
   "cell_type": "code",
   "execution_count": 11,
   "metadata": {},
   "outputs": [
    {
     "data": {
      "text/html": [
       "<div>\n",
       "<style scoped>\n",
       "    .dataframe tbody tr th:only-of-type {\n",
       "        vertical-align: middle;\n",
       "    }\n",
       "\n",
       "    .dataframe tbody tr th {\n",
       "        vertical-align: top;\n",
       "    }\n",
       "\n",
       "    .dataframe thead th {\n",
       "        text-align: right;\n",
       "    }\n",
       "</style>\n",
       "<table border=\"1\" class=\"dataframe\">\n",
       "  <thead>\n",
       "    <tr style=\"text-align: right;\">\n",
       "      <th></th>\n",
       "      <th>bodyId</th>\n",
       "      <th>type</th>\n",
       "      <th>soma</th>\n",
       "      <th>morpho_group</th>\n",
       "      <th>segregation_index</th>\n",
       "    </tr>\n",
       "  </thead>\n",
       "  <tbody>\n",
       "    <tr>\n",
       "      <th>0</th>\n",
       "      <td>1578826464</td>\n",
       "      <td>lLN1_c_R</td>\n",
       "      <td>True</td>\n",
       "      <td>l_LN_broad_</td>\n",
       "      <td>0.000033</td>\n",
       "    </tr>\n",
       "    <tr>\n",
       "      <th>1</th>\n",
       "      <td>1670278227</td>\n",
       "      <td>lLN11_R</td>\n",
       "      <td>True</td>\n",
       "      <td>l_LN_regional_</td>\n",
       "      <td>0.423012</td>\n",
       "    </tr>\n",
       "    <tr>\n",
       "      <th>2</th>\n",
       "      <td>1979569670</td>\n",
       "      <td>lLN11_R</td>\n",
       "      <td>True</td>\n",
       "      <td>l_LN_regional_</td>\n",
       "      <td>0.048766</td>\n",
       "    </tr>\n",
       "    <tr>\n",
       "      <th>3</th>\n",
       "      <td>2040301572</td>\n",
       "      <td>lLN11_R</td>\n",
       "      <td>True</td>\n",
       "      <td>l_LN_regional_</td>\n",
       "      <td>0.021254</td>\n",
       "    </tr>\n",
       "    <tr>\n",
       "      <th>4</th>\n",
       "      <td>1826445251</td>\n",
       "      <td>lLN12a_R</td>\n",
       "      <td>True</td>\n",
       "      <td>l_LN_regional_</td>\n",
       "      <td>0.376746</td>\n",
       "    </tr>\n",
       "    <tr>\n",
       "      <th>...</th>\n",
       "      <td>...</td>\n",
       "      <td>...</td>\n",
       "      <td>...</td>\n",
       "      <td>...</td>\n",
       "      <td>...</td>\n",
       "    </tr>\n",
       "    <tr>\n",
       "      <th>192</th>\n",
       "      <td>5813040492</td>\n",
       "      <td>v2LN38_L</td>\n",
       "      <td>False</td>\n",
       "      <td>v2contra_LN_sparse_bil</td>\n",
       "      <td>0.005862</td>\n",
       "    </tr>\n",
       "    <tr>\n",
       "      <th>193</th>\n",
       "      <td>5813071384</td>\n",
       "      <td>vLN26_R</td>\n",
       "      <td>True</td>\n",
       "      <td>v_LN_sparse_bil</td>\n",
       "      <td>0.209587</td>\n",
       "    </tr>\n",
       "    <tr>\n",
       "      <th>194</th>\n",
       "      <td>2101391269</td>\n",
       "      <td>vLN28_R</td>\n",
       "      <td>False</td>\n",
       "      <td>v_LN_sparse_</td>\n",
       "      <td>0.508483</td>\n",
       "    </tr>\n",
       "    <tr>\n",
       "      <th>195</th>\n",
       "      <td>5813055448</td>\n",
       "      <td>vLN29_R</td>\n",
       "      <td>True</td>\n",
       "      <td>v_LN_sparse_</td>\n",
       "      <td>0.472716</td>\n",
       "    </tr>\n",
       "    <tr>\n",
       "      <th>196</th>\n",
       "      <td>1702323388</td>\n",
       "      <td>lLN14_R</td>\n",
       "      <td>False</td>\n",
       "      <td>l_LN_sparse_</td>\n",
       "      <td>0.376630</td>\n",
       "    </tr>\n",
       "  </tbody>\n",
       "</table>\n",
       "<p>197 rows × 5 columns</p>\n",
       "</div>"
      ],
      "text/plain": [
       "         bodyId      type   soma            morpho_group  segregation_index\n",
       "0    1578826464  lLN1_c_R   True             l_LN_broad_           0.000033\n",
       "1    1670278227   lLN11_R   True          l_LN_regional_           0.423012\n",
       "2    1979569670   lLN11_R   True          l_LN_regional_           0.048766\n",
       "3    2040301572   lLN11_R   True          l_LN_regional_           0.021254\n",
       "4    1826445251  lLN12a_R   True          l_LN_regional_           0.376746\n",
       "..          ...       ...    ...                     ...                ...\n",
       "192  5813040492  v2LN38_L  False  v2contra_LN_sparse_bil           0.005862\n",
       "193  5813071384   vLN26_R   True         v_LN_sparse_bil           0.209587\n",
       "194  2101391269   vLN28_R  False            v_LN_sparse_           0.508483\n",
       "195  5813055448   vLN29_R   True            v_LN_sparse_           0.472716\n",
       "196  1702323388   lLN14_R  False            l_LN_sparse_           0.376630\n",
       "\n",
       "[197 rows x 5 columns]"
      ]
     },
     "execution_count": 11,
     "metadata": {},
     "output_type": "execute_result"
    }
   ],
   "source": [
    "al_annotations"
   ]
  },
  {
   "cell_type": "code",
   "execution_count": 12,
   "metadata": {},
   "outputs": [
    {
     "data": {
      "text/html": [
       "<div>\n",
       "<style scoped>\n",
       "    .dataframe tbody tr th:only-of-type {\n",
       "        vertical-align: middle;\n",
       "    }\n",
       "\n",
       "    .dataframe tbody tr th {\n",
       "        vertical-align: top;\n",
       "    }\n",
       "\n",
       "    .dataframe thead th {\n",
       "        text-align: right;\n",
       "    }\n",
       "</style>\n",
       "<table border=\"1\" class=\"dataframe\">\n",
       "  <thead>\n",
       "    <tr style=\"text-align: right;\">\n",
       "      <th></th>\n",
       "      <th>BodyId</th>\n",
       "      <th>morphology</th>\n",
       "    </tr>\n",
       "  </thead>\n",
       "  <tbody>\n",
       "    <tr>\n",
       "      <th>0</th>\n",
       "      <td>1547454812</td>\n",
       "      <td>l_LN_broad_</td>\n",
       "    </tr>\n",
       "    <tr>\n",
       "      <th>1</th>\n",
       "      <td>1578826464</td>\n",
       "      <td>l_LN_broad_</td>\n",
       "    </tr>\n",
       "    <tr>\n",
       "      <th>2</th>\n",
       "      <td>1610530558</td>\n",
       "      <td>l_LN_broad_</td>\n",
       "    </tr>\n",
       "    <tr>\n",
       "      <th>3</th>\n",
       "      <td>1639886198</td>\n",
       "      <td>l_LN_patchy_</td>\n",
       "    </tr>\n",
       "    <tr>\n",
       "      <th>4</th>\n",
       "      <td>1640555311</td>\n",
       "      <td>l_LN_patchy_</td>\n",
       "    </tr>\n",
       "    <tr>\n",
       "      <th>...</th>\n",
       "      <td>...</td>\n",
       "      <td>...</td>\n",
       "    </tr>\n",
       "    <tr>\n",
       "      <th>192</th>\n",
       "      <td>5901197989</td>\n",
       "      <td>l_LN_sparse_bil</td>\n",
       "    </tr>\n",
       "    <tr>\n",
       "      <th>193</th>\n",
       "      <td>5901198734</td>\n",
       "      <td>v2_LN_regional_bil</td>\n",
       "    </tr>\n",
       "    <tr>\n",
       "      <th>194</th>\n",
       "      <td>5901199598</td>\n",
       "      <td>v2_LN_sparse_bil</td>\n",
       "    </tr>\n",
       "    <tr>\n",
       "      <th>195</th>\n",
       "      <td>5901206553</td>\n",
       "      <td>il3_LN_broad_</td>\n",
       "    </tr>\n",
       "    <tr>\n",
       "      <th>196</th>\n",
       "      <td>5901218894</td>\n",
       "      <td>l_LN_broad_</td>\n",
       "    </tr>\n",
       "  </tbody>\n",
       "</table>\n",
       "<p>197 rows × 2 columns</p>\n",
       "</div>"
      ],
      "text/plain": [
       "         BodyId          morphology\n",
       "0    1547454812         l_LN_broad_\n",
       "1    1578826464         l_LN_broad_\n",
       "2    1610530558         l_LN_broad_\n",
       "3    1639886198        l_LN_patchy_\n",
       "4    1640555311        l_LN_patchy_\n",
       "..          ...                 ...\n",
       "192  5901197989     l_LN_sparse_bil\n",
       "193  5901198734  v2_LN_regional_bil\n",
       "194  5901199598    v2_LN_sparse_bil\n",
       "195  5901206553       il3_LN_broad_\n",
       "196  5901218894         l_LN_broad_\n",
       "\n",
       "[197 rows x 2 columns]"
      ]
     },
     "execution_count": 12,
     "metadata": {},
     "output_type": "execute_result"
    }
   ],
   "source": [
    "al_comp = al_annotations[['bodyId','type', 'morpho_group']]\n",
    "al_comp = al_comp.rename(columns={'bodyId': 'BodyId', 'type': 'Type','morpho_group': 'morphology'})\n",
    "al_comp = al_comp.sort_values('BodyId')\n",
    "al_comp = al_comp.reset_index(drop = True)\n",
    "al_comp = al_comp[['BodyId','morphology']]\n",
    "al_comp"
   ]
  },
  {
   "cell_type": "code",
   "execution_count": null,
   "metadata": {},
   "outputs": [],
   "source": []
  },
  {
   "cell_type": "code",
   "execution_count": 13,
   "metadata": {},
   "outputs": [],
   "source": [
    "#remove the contralateral LN, though it is typed, it is coming from the other side so we do not use it..\n",
    "al_lns = al_annotations[~al_annotations['morpho_group'].str.startswith('v2contra_')]"
   ]
  },
  {
   "cell_type": "code",
   "execution_count": 14,
   "metadata": {},
   "outputs": [
    {
     "name": "stdout",
     "output_type": "stream",
     "text": [
      "--- Summary of local neuron types in antenna lobe ---\n",
      "\n",
      "--- Total ---\n",
      "Typed Antenna lobe neurons: 197\n",
      "Antenna lobe neurons (used in analysis): 196\n",
      "\n",
      "--- By cross over ---\n",
      "Bilateral: 78\n",
      "Unilateral: 118\n",
      "Total: 196\n",
      "\n",
      "--- By lineage ---\n",
      "v: 8\n",
      "v2: 81\n",
      "il3: 2\n",
      "l: 95\n",
      "l2: 10\n",
      "Contra: 1\n",
      "unknown: 0\n",
      "Total: 197\n",
      "\n",
      "--- By morphology ---\n",
      "sparse: 98\n",
      "regional: 42\n",
      "broad: 42\n",
      "patchy: 14\n",
      "unknown: 0\n",
      "Total: 196\n"
     ]
    }
   ],
   "source": [
    "print('--- Summary of local neuron types in antenna lobe ---\\n')\n",
    "\n",
    "print('--- Total ---')\n",
    "print('Typed Antenna lobe neurons:', len(al_annotations))\n",
    "print('Antenna lobe neurons (used in analysis):', len(al_lns))\n",
    "\n",
    "print('\\n--- By cross over ---')\n",
    "# Bilateral neurons..\n",
    "bilateral_lns = al_lns[al_lns['morpho_group'].str.contains('_bil')]\n",
    "unilateral_lns = al_lns[al_lns['morpho_group'].str.endswith('_')]\n",
    "print('Bilateral:', len(bilateral_lns))\n",
    "print('Unilateral:', len(unilateral_lns))\n",
    "print('Total:', len(bilateral_lns)+ len(unilateral_lns))\n",
    "\n",
    "print('\\n--- By lineage ---')\n",
    "# v neurons..\n",
    "v_lns = al_lns[al_lns['morpho_group'].str.startswith('v_')]\n",
    "# v2 neurons..\n",
    "v2_lns = al_lns[al_lns['morpho_group'].str.startswith('v2_')] #there is v2, and also v2contra\n",
    "\n",
    "# il3 neurons..\n",
    "il3_lns = al_lns[al_lns['morpho_group'].str.startswith('il3_')]\n",
    "# l neurons..\n",
    "l_lns = al_lns[al_lns['morpho_group'].str.startswith('l_')]\n",
    "# l2 neurons..\n",
    "l2_lns = al_lns[al_lns['morpho_group'].str.startswith('l2_')]\n",
    "# contra neurons..\n",
    "contra_lns = al_annotations[al_annotations['morpho_group'].str.contains('contra_')]\n",
    "# unknownlineage neurons..\n",
    "unknownlineage_lns = al_annotations[al_annotations['morpho_group'].str.startswith('_')]\n",
    "\n",
    "print('v:', len(v_lns))\n",
    "print('v2:', len(v2_lns))\n",
    "print('il3:', len(il3_lns))\n",
    "print('l:', len(l_lns))\n",
    "print('l2:', len(l2_lns))\n",
    "print('Contra:', len(contra_lns))\n",
    "print('unknown:', len(unknownlineage_lns))\n",
    "print('Total:', len(v_lns)+ len(v2_lns) + len(il3_lns)+ len(l_lns)+len(l2_lns)+\n",
    "      len(contra_lns)+len(unknownlineage_lns))\n",
    "\n",
    "\n",
    "print('\\n--- By morphology ---')\n",
    "# sparse neurons..\n",
    "sparse_lns = al_lns[al_lns['morpho_group'].str.contains('_sparse_')]\n",
    "# regional neurons..\n",
    "regional_lns = al_lns[al_lns['morpho_group'].str.contains('_regional_')]\n",
    "# broad neurons..\n",
    "broad_lns = al_lns[al_lns['morpho_group'].str.contains('_broad_')]\n",
    "# patchy neurons..\n",
    "patchy_lns = al_lns[al_lns['morpho_group'].str.contains('_patchy_')]\n",
    "# unknown neurons..\n",
    "unknownmorpho_lns = al_lns[al_lns['morpho_group'].str.contains('LN__')]\n",
    "\n",
    "print('sparse:', len(sparse_lns))\n",
    "print('regional:', len(regional_lns))\n",
    "print('broad:', len(broad_lns))\n",
    "print('patchy:', len(patchy_lns))\n",
    "print('unknown:', len(unknownmorpho_lns))\n",
    "print('Total:', len(sparse_lns)+ len(regional_lns)+ len(broad_lns)+len(patchy_lns)+len(unknownmorpho_lns))\n"
   ]
  },
  {
   "cell_type": "markdown",
   "metadata": {},
   "source": [
    "## convert the above information to a table format for display.."
   ]
  },
  {
   "cell_type": "code",
   "execution_count": 15,
   "metadata": {},
   "outputs": [
    {
     "data": {
      "text/html": [
       "<div>\n",
       "<style scoped>\n",
       "    .dataframe tbody tr th:only-of-type {\n",
       "        vertical-align: middle;\n",
       "    }\n",
       "\n",
       "    .dataframe tbody tr th {\n",
       "        vertical-align: top;\n",
       "    }\n",
       "\n",
       "    .dataframe thead th {\n",
       "        text-align: right;\n",
       "    }\n",
       "</style>\n",
       "<table border=\"1\" class=\"dataframe\">\n",
       "  <thead>\n",
       "    <tr style=\"text-align: right;\">\n",
       "      <th></th>\n",
       "      <th>lineage</th>\n",
       "      <th>morpho_type</th>\n",
       "    </tr>\n",
       "  </thead>\n",
       "  <tbody>\n",
       "    <tr>\n",
       "      <th>0</th>\n",
       "      <td>l</td>\n",
       "      <td>broad</td>\n",
       "    </tr>\n",
       "    <tr>\n",
       "      <th>1</th>\n",
       "      <td>l</td>\n",
       "      <td>regional</td>\n",
       "    </tr>\n",
       "    <tr>\n",
       "      <th>2</th>\n",
       "      <td>l</td>\n",
       "      <td>regional</td>\n",
       "    </tr>\n",
       "    <tr>\n",
       "      <th>3</th>\n",
       "      <td>l</td>\n",
       "      <td>regional</td>\n",
       "    </tr>\n",
       "    <tr>\n",
       "      <th>4</th>\n",
       "      <td>l</td>\n",
       "      <td>regional</td>\n",
       "    </tr>\n",
       "  </tbody>\n",
       "</table>\n",
       "</div>"
      ],
      "text/plain": [
       "  lineage morpho_type\n",
       "0       l       broad\n",
       "1       l    regional\n",
       "2       l    regional\n",
       "3       l    regional\n",
       "4       l    regional"
      ]
     },
     "execution_count": 15,
     "metadata": {},
     "output_type": "execute_result"
    }
   ],
   "source": [
    "table_lns = al_lns.copy()\n",
    "table_lns['lineage'] = table_lns.morpho_group.map(\n",
    "                                lambda x: x.split('_')[0].lower())\n",
    "table_lns['morpho_type'] = table_lns.morpho_group.map(\n",
    "                                lambda x: x.split('_')[2].lower())\n",
    "columns = ['bodyId','type', 'soma', 'morpho_group','segregation_index']\n",
    "table_lns.drop(columns, inplace=True, axis=1)\n",
    "table_lns = table_lns[table_lns.morpho_type != '']\n",
    "table_lns = table_lns[(table_lns.lineage != '') & (table_lns.lineage != 'contra')]\n",
    "\n",
    "table_lns.loc[table_lns.lineage == '','lineage'] = 'unknown'\n",
    "table_lns.loc[table_lns.morpho_type == '','morpho_type'] = 'unknown'\n",
    "\n",
    "#change contralateral stuff for which lineages are known to simple lineages\n",
    "table_lns.loc[table_lns.lineage == 'v2contra','lineage'] = 'v2'\n",
    "\n",
    "table_lns.head()"
   ]
  },
  {
   "cell_type": "code",
   "execution_count": 16,
   "metadata": {},
   "outputs": [
    {
     "data": {
      "text/plain": [
       "array(['l', 'l2', 'v', 'v2', 'il3'], dtype=object)"
      ]
     },
     "execution_count": 16,
     "metadata": {},
     "output_type": "execute_result"
    }
   ],
   "source": [
    "table_lns.lineage.unique()"
   ]
  },
  {
   "cell_type": "code",
   "execution_count": 17,
   "metadata": {},
   "outputs": [
    {
     "data": {
      "text/html": [
       "<div>\n",
       "<style scoped>\n",
       "    .dataframe tbody tr th:only-of-type {\n",
       "        vertical-align: middle;\n",
       "    }\n",
       "\n",
       "    .dataframe tbody tr th {\n",
       "        vertical-align: top;\n",
       "    }\n",
       "\n",
       "    .dataframe thead th {\n",
       "        text-align: right;\n",
       "    }\n",
       "</style>\n",
       "<table border=\"1\" class=\"dataframe\">\n",
       "  <thead>\n",
       "    <tr style=\"text-align: right;\">\n",
       "      <th>lineage</th>\n",
       "      <th>il3</th>\n",
       "      <th>l</th>\n",
       "      <th>l2</th>\n",
       "      <th>v</th>\n",
       "      <th>v2</th>\n",
       "      <th>Total</th>\n",
       "    </tr>\n",
       "    <tr>\n",
       "      <th>morpho_type</th>\n",
       "      <th></th>\n",
       "      <th></th>\n",
       "      <th></th>\n",
       "      <th></th>\n",
       "      <th></th>\n",
       "      <th></th>\n",
       "    </tr>\n",
       "  </thead>\n",
       "  <tbody>\n",
       "    <tr>\n",
       "      <th>broad</th>\n",
       "      <td>2.0</td>\n",
       "      <td>39.0</td>\n",
       "      <td>1.0</td>\n",
       "      <td>0.0</td>\n",
       "      <td>0.0</td>\n",
       "      <td>42.0</td>\n",
       "    </tr>\n",
       "    <tr>\n",
       "      <th>patchy</th>\n",
       "      <td>0.0</td>\n",
       "      <td>14.0</td>\n",
       "      <td>0.0</td>\n",
       "      <td>0.0</td>\n",
       "      <td>0.0</td>\n",
       "      <td>14.0</td>\n",
       "    </tr>\n",
       "    <tr>\n",
       "      <th>regional</th>\n",
       "      <td>0.0</td>\n",
       "      <td>19.0</td>\n",
       "      <td>0.0</td>\n",
       "      <td>4.0</td>\n",
       "      <td>19.0</td>\n",
       "      <td>42.0</td>\n",
       "    </tr>\n",
       "    <tr>\n",
       "      <th>sparse</th>\n",
       "      <td>0.0</td>\n",
       "      <td>23.0</td>\n",
       "      <td>9.0</td>\n",
       "      <td>4.0</td>\n",
       "      <td>62.0</td>\n",
       "      <td>98.0</td>\n",
       "    </tr>\n",
       "    <tr>\n",
       "      <th>Total</th>\n",
       "      <td>2.0</td>\n",
       "      <td>95.0</td>\n",
       "      <td>10.0</td>\n",
       "      <td>8.0</td>\n",
       "      <td>81.0</td>\n",
       "      <td>196.0</td>\n",
       "    </tr>\n",
       "  </tbody>\n",
       "</table>\n",
       "</div>"
      ],
      "text/plain": [
       "lineage      il3     l    l2    v    v2  Total\n",
       "morpho_type                                   \n",
       "broad        2.0  39.0   1.0  0.0   0.0   42.0\n",
       "patchy       0.0  14.0   0.0  0.0   0.0   14.0\n",
       "regional     0.0  19.0   0.0  4.0  19.0   42.0\n",
       "sparse       0.0  23.0   9.0  4.0  62.0   98.0\n",
       "Total        2.0  95.0  10.0  8.0  81.0  196.0"
      ]
     },
     "execution_count": 17,
     "metadata": {},
     "output_type": "execute_result"
    }
   ],
   "source": [
    "table_lns_print = table_lns.pivot_table(index='morpho_type', columns='lineage', \n",
    "                        aggfunc=len, fill_value=0)\n",
    "table_lns_print.loc['Total']= table_lns_print.sum(numeric_only=True, axis=0)\n",
    "table_lns_print.loc[:,'Total'] = table_lns_print.sum(numeric_only=True, axis=1)\n",
    "table_lns_print = table_lns_print.astype('float')\n",
    "table_lns_print"
   ]
  },
  {
   "cell_type": "code",
   "execution_count": 18,
   "metadata": {},
   "outputs": [],
   "source": [
    "table_lns_mask= table_lns_print*0\n",
    "table_lns_mask.loc['Total'] = 1\n",
    "table_lns_mask.loc[:,'Total'] = 1"
   ]
  },
  {
   "cell_type": "code",
   "execution_count": null,
   "metadata": {},
   "outputs": [],
   "source": []
  },
  {
   "cell_type": "code",
   "execution_count": 19,
   "metadata": {},
   "outputs": [
    {
     "data": {
      "image/png": "[encoded data removed]",
      "text/plain": [
       "<Figure size 360x216 with 1 Axes>"
      ]
     },
     "metadata": {
      "needs_background": "light"
     },
     "output_type": "display_data"
    }
   ],
   "source": [
    "fig, ax = plt.subplots(figsize=(5, 3))\n",
    "\n",
    "ax = sns.heatmap(table_lns_print, cmap='Greys', annot=True, fmt='.0f', ax=ax, mask=table_lns_mask == 1,\n",
    "                 cbar=False, annot_kws={\"size\": 14},linewidths=2.5)\n",
    "ax = sns.heatmap(table_lns_print, cmap=ListedColormap(['whitesmoke']), annot=True, fmt='.0f', ax=ax, \n",
    "                 mask=table_lns_mask != 1,cbar=False, annot_kws={\"size\": 14},linewidths=2.5)\n",
    "\n",
    "ax.set_xlabel('')\n",
    "ax.set_ylabel('')\n",
    "\n",
    "\n",
    "ax.tick_params(axis=u'both', which=u'both', length=0)\n",
    "ax.set_yticklabels(ax.get_yticklabels(), rotation=0, size=label_fontsize-2)\n",
    "ax.set_xticklabels(ax.get_xticklabels(), rotation=0, size=label_fontsize-2)\n",
    "plt.tick_params(axis='both', which='major', labelsize=label_fontsize-2, labelbottom = False, \n",
    "                bottom=False, top = False, labeltop=True)\n",
    "\n",
    "plt.xlabel('lineage\\n', fontsize = label_fontsize,weight = 'bold')\n",
    "plt.ylabel('morphology groups', fontsize = 14,weight = 'bold')\n",
    "ax.xaxis.set_label_position('top')\n",
    "\n",
    "plt.tight_layout()\n",
    "plt.box(False)"
   ]
  },
  {
   "cell_type": "code",
   "execution_count": null,
   "metadata": {},
   "outputs": [],
   "source": []
  },
  {
   "cell_type": "markdown",
   "metadata": {},
   "source": [
    "# 2. Fetch skeletons from neuprint for display"
   ]
  },
  {
   "cell_type": "code",
   "execution_count": 20,
   "metadata": {},
   "outputs": [
    {
     "data": {
      "text/plain": [
       "196"
      ]
     },
     "execution_count": 20,
     "metadata": {},
     "output_type": "execute_result"
    }
   ],
   "source": [
    "bodyidList = al_lns.bodyId.tolist()\n",
    "len(bodyidList)"
   ]
  },
  {
   "cell_type": "code",
   "execution_count": 21,
   "metadata": {},
   "outputs": [
    {
     "data": {
      "application/vnd.jupyter.widget-view+json": {
       "model_id": "",
       "version_major": 2,
       "version_minor": 0
      },
      "text/plain": [
       "HBox(children=(HTML(value='Fetching'), FloatProgress(value=0.0, max=196.0), HTML(value='')))"
      ]
     },
     "metadata": {},
     "output_type": "display_data"
    }
   ],
   "source": [
    "#fetch skeletons and heal fragments within a specific threshold..\n",
    "alln_skel = neu.fetch_skeletons(bodyidList, heal=1000, max_threads=30)"
   ]
  },
  {
   "cell_type": "code",
   "execution_count": 22,
   "metadata": {},
   "outputs": [
    {
     "data": {
      "text/html": [
       "<div>\n",
       "<style scoped>\n",
       "    .dataframe tbody tr th:only-of-type {\n",
       "        vertical-align: middle;\n",
       "    }\n",
       "\n",
       "    .dataframe tbody tr th {\n",
       "        vertical-align: top;\n",
       "    }\n",
       "\n",
       "    .dataframe thead th {\n",
       "        text-align: right;\n",
       "    }\n",
       "</style>\n",
       "<table border=\"1\" class=\"dataframe\">\n",
       "  <thead>\n",
       "    <tr style=\"text-align: right;\">\n",
       "      <th></th>\n",
       "      <th>type</th>\n",
       "      <th>name</th>\n",
       "      <th>id</th>\n",
       "      <th>n_nodes</th>\n",
       "      <th>n_connectors</th>\n",
       "      <th>n_branches</th>\n",
       "      <th>n_leafs</th>\n",
       "      <th>cable_length</th>\n",
       "      <th>soma</th>\n",
       "      <th>units</th>\n",
       "    </tr>\n",
       "  </thead>\n",
       "  <tbody>\n",
       "    <tr>\n",
       "      <th>0</th>\n",
       "      <td>navis.TreeNeuron</td>\n",
       "      <td>lLN16b_R</td>\n",
       "      <td>1701965055</td>\n",
       "      <td>3904</td>\n",
       "      <td>241</td>\n",
       "      <td>151</td>\n",
       "      <td>None</td>\n",
       "      <td>108657.062500</td>\n",
       "      <td>23</td>\n",
       "      <td>8 nanometer</td>\n",
       "    </tr>\n",
       "    <tr>\n",
       "      <th>1</th>\n",
       "      <td>navis.TreeNeuron</td>\n",
       "      <td>v2LN34e_R</td>\n",
       "      <td>1670636531</td>\n",
       "      <td>3706</td>\n",
       "      <td>382</td>\n",
       "      <td>180</td>\n",
       "      <td>None</td>\n",
       "      <td>159913.359375</td>\n",
       "      <td>3677</td>\n",
       "      <td>8 nanometer</td>\n",
       "    </tr>\n",
       "    <tr>\n",
       "      <th>2</th>\n",
       "      <td>navis.TreeNeuron</td>\n",
       "      <td>lLN11_R</td>\n",
       "      <td>1670278227</td>\n",
       "      <td>4295</td>\n",
       "      <td>451</td>\n",
       "      <td>142</td>\n",
       "      <td>None</td>\n",
       "      <td>171583.515625</td>\n",
       "      <td>864</td>\n",
       "      <td>8 nanometer</td>\n",
       "    </tr>\n",
       "    <tr>\n",
       "      <th>3</th>\n",
       "      <td>navis.TreeNeuron</td>\n",
       "      <td>v2LN34f_R</td>\n",
       "      <td>1668275074</td>\n",
       "      <td>6885</td>\n",
       "      <td>713</td>\n",
       "      <td>331</td>\n",
       "      <td>None</td>\n",
       "      <td>249866.812500</td>\n",
       "      <td>6826</td>\n",
       "      <td>8 nanometer</td>\n",
       "    </tr>\n",
       "    <tr>\n",
       "      <th>4</th>\n",
       "      <td>navis.TreeNeuron</td>\n",
       "      <td>lLN12b_R</td>\n",
       "      <td>1671270875</td>\n",
       "      <td>5003</td>\n",
       "      <td>913</td>\n",
       "      <td>288</td>\n",
       "      <td>None</td>\n",
       "      <td>195711.937500</td>\n",
       "      <td>7</td>\n",
       "      <td>8 nanometer</td>\n",
       "    </tr>\n",
       "  </tbody>\n",
       "</table>\n",
       "</div>"
      ],
      "text/plain": [
       "               type       name          id  n_nodes  n_connectors  n_branches  \\\n",
       "0  navis.TreeNeuron   lLN16b_R  1701965055     3904           241         151   \n",
       "1  navis.TreeNeuron  v2LN34e_R  1670636531     3706           382         180   \n",
       "2  navis.TreeNeuron    lLN11_R  1670278227     4295           451         142   \n",
       "3  navis.TreeNeuron  v2LN34f_R  1668275074     6885           713         331   \n",
       "4  navis.TreeNeuron   lLN12b_R  1671270875     5003           913         288   \n",
       "\n",
       "  n_leafs   cable_length  soma        units  \n",
       "0    None  108657.062500    23  8 nanometer  \n",
       "1    None  159913.359375  3677  8 nanometer  \n",
       "2    None  171583.515625   864  8 nanometer  \n",
       "3    None  249866.812500  6826  8 nanometer  \n",
       "4    None  195711.937500     7  8 nanometer  "
      ]
     },
     "execution_count": 22,
     "metadata": {},
     "output_type": "execute_result"
    }
   ],
   "source": [
    "alln_skel.head()"
   ]
  },
  {
   "cell_type": "code",
   "execution_count": null,
   "metadata": {},
   "outputs": [],
   "source": []
  },
  {
   "cell_type": "code",
   "execution_count": 23,
   "metadata": {},
   "outputs": [],
   "source": [
    "def plotskeletons(plotting_skel, color, scaling_skel, axes, alpha = 0.4, outline = False):\n",
    "    if outline == True:\n",
    "        p_al = Poly3DCollection([al_outlines[:, [0, 2, 1]]], linewidth=1.5, \n",
    "                        facecolor=(0, 0, 0, 0), edgecolor=(0, 0, 0, 1), linestyle='-')\n",
    "        axes.scatter(al_outlines[:,0],al_outlines[:,2],al_outlines[:,1], alpha = 0)\n",
    "        axes.add_collection3d(p_al)\n",
    "    else:\n",
    "        navis.plot2d(al,ax=ax,method='3d', lw=.8)\n",
    "    navis.plot2d(scaling_skel, method='3d', ax = ax, connectors=False, color = 'black', linewidth=0, alpha = 0)\n",
    "    navis.plot2d(plotting_skel, method='3d', ax = axes, connectors=False, color = color, linewidth=1, alpha = alpha)\n",
    "    # Rotate to frontal view\n",
    "    axes.elev = elev\n",
    "    axes.azim = azim\n",
    "    axes.dist = dist\n",
    "    return axes"
   ]
  },
  {
   "cell_type": "code",
   "execution_count": null,
   "metadata": {},
   "outputs": [],
   "source": []
  },
  {
   "cell_type": "code",
   "execution_count": 24,
   "metadata": {},
   "outputs": [
    {
     "data": {
      "text/plain": [
       "<navis.Volume(name=AL(R), color=(0.9, 0.9, 0.9, 0.05), vertices.shape=(38829, 3), faces.shape=(77672, 3))>"
      ]
     },
     "execution_count": 24,
     "metadata": {},
     "output_type": "execute_result"
    }
   ],
   "source": [
    "#fetch mesh for Right Antenna lobe..\n",
    "al = neu.fetch_roi('AL(R)')\n",
    "al.color = (.9, .9, .9, .05)\n",
    "al"
   ]
  },
  {
   "cell_type": "code",
   "execution_count": 25,
   "metadata": {},
   "outputs": [],
   "source": [
    "# Generate 2D outlines for the al (not required, but useful for other kinds of display)\n",
    "al2d = np.array(al.to_2d(alpha = 2,view = 'xz'))\n",
    "al_outlines = np.append(al2d, np.repeat(al.center[2], al2d.shape[0]).reshape(al2d.shape[0], 1), axis=1)"
   ]
  },
  {
   "cell_type": "code",
   "execution_count": 26,
   "metadata": {},
   "outputs": [],
   "source": [
    "figwidth_size = 5\n",
    "figheigth_size = 5"
   ]
  },
  {
   "cell_type": "markdown",
   "metadata": {},
   "source": [
    "## Bilateral/Unilateral neurons"
   ]
  },
  {
   "cell_type": "code",
   "execution_count": 27,
   "metadata": {},
   "outputs": [],
   "source": [
    "#get bilateral neurons\n",
    "billn_skel = alln_skel[np.in1d(alln_skel.id, bilateral_lns.bodyId)]\n",
    "#get uni neurons\n",
    "uniln_skel = alln_skel[np.in1d(alln_skel.id, unilateral_lns.bodyId)]"
   ]
  },
  {
   "cell_type": "code",
   "execution_count": 28,
   "metadata": {},
   "outputs": [],
   "source": [
    "#this is just for consistent display distance..\n",
    "scaling_skel = billn_skel[np.in1d(billn_skel.id, [1698679708,2041993364])]"
   ]
  },
  {
   "cell_type": "code",
   "execution_count": 29,
   "metadata": {},
   "outputs": [],
   "source": [
    "skelbg_color = 'grey'"
   ]
  },
  {
   "cell_type": "code",
   "execution_count": 30,
   "metadata": {},
   "outputs": [
    {
     "data": {
      "image/png": "[encoded data removed]",
      "text/plain": [
       "<Figure size 360x360 with 1 Axes>"
      ]
     },
     "metadata": {
      "needs_background": "light"
     },
     "output_type": "display_data"
    }
   ],
   "source": [
    "# Make a 2d plot\n",
    "fig = plt.figure(figsize=(figwidth_size, figheigth_size))\n",
    "ax = fig.add_subplot(1, 1, 1, projection = '3d')\n",
    "plotbilln_skel = billn_skel\n",
    "ax = plotskeletons(plotting_skel = plotbilln_skel[0], color = skelbg_color, scaling_skel = scaling_skel, \n",
    "             axes = ax)"
   ]
  },
  {
   "cell_type": "code",
   "execution_count": 31,
   "metadata": {},
   "outputs": [
    {
     "data": {
      "image/png": "[encoded data removed]",
      "text/plain": [
       "<Figure size 360x360 with 1 Axes>"
      ]
     },
     "metadata": {
      "needs_background": "light"
     },
     "output_type": "display_data"
    }
   ],
   "source": [
    "# Make a 2d plot\n",
    "fig = plt.figure(figsize=(figwidth_size, figheigth_size))\n",
    "ax = fig.add_subplot(1, 1, 1, projection = '3d')\n",
    "plotuniln_skel = uniln_skel\n",
    "ax = plotskeletons(plotting_skel = plotuniln_skel[0], color = skelbg_color, scaling_skel = scaling_skel, \n",
    "             axes = ax)"
   ]
  },
  {
   "cell_type": "code",
   "execution_count": null,
   "metadata": {},
   "outputs": [],
   "source": []
  },
  {
   "cell_type": "markdown",
   "metadata": {},
   "source": [
    "## Morphological types"
   ]
  },
  {
   "cell_type": "code",
   "execution_count": 32,
   "metadata": {},
   "outputs": [],
   "source": [
    "def plotmorphotypeskeletons(plotting_skel, scaling_skel, axes, color,alpha = 1):\n",
    "    navis.plot2d(al,ax=ax,method='3d', lw=.8)\n",
    "    navis.plot2d(scaling_skel, method='3d', ax = ax, connectors=False, color = 'black', linewidth=0, alpha = 0)\n",
    "    navis.plot2d(plotting_skel, method='3d', ax = axes, connectors=False, color = color, linewidth=1, alpha = alpha)\n",
    "    # Rotate to frontal view\n",
    "    axes.elev = elev\n",
    "    axes.azim = azim\n",
    "    axes.dist = dist\n",
    "    return axes"
   ]
  },
  {
   "cell_type": "code",
   "execution_count": 33,
   "metadata": {},
   "outputs": [],
   "source": [
    "sparseln_skel = alln_skel[np.in1d(alln_skel.id, sparse_lns.bodyId)]\n",
    "regionalln_skel = alln_skel[np.in1d(alln_skel.id, regional_lns.bodyId)]\n",
    "broadln_skel = alln_skel[np.in1d(alln_skel.id, broad_lns.bodyId)]\n",
    "patchyln_skel = alln_skel[np.in1d(alln_skel.id, patchy_lns.bodyId)]"
   ]
  },
  {
   "cell_type": "markdown",
   "metadata": {},
   "source": [
    "### Sparse"
   ]
  },
  {
   "cell_type": "code",
   "execution_count": 34,
   "metadata": {},
   "outputs": [
    {
     "data": {
      "image/png": "[encoded data removed]",
      "text/plain": [
       "<Figure size 360x360 with 1 Axes>"
      ]
     },
     "metadata": {
      "needs_background": "light"
     },
     "output_type": "display_data"
    }
   ],
   "source": [
    "# Make a 2d plot\n",
    "fig = plt.figure(figsize=(figwidth_size, figheigth_size))\n",
    "ax = fig.add_subplot(1, 1, 1, projection = '3d')\n",
    "sparseln_skel_plot = sparseln_skel[np.in1d(sparseln_skel.id, [1976565858])]\n",
    "sparse_col = [0.905, 0.152, 0.243]\n",
    "ax = plotmorphotypeskeletons(plotting_skel = sparseln_skel_plot, color = sparse_col, \n",
    "                             scaling_skel = scaling_skel,axes = ax)"
   ]
  },
  {
   "cell_type": "markdown",
   "metadata": {},
   "source": [
    "### regional"
   ]
  },
  {
   "cell_type": "code",
   "execution_count": 35,
   "metadata": {},
   "outputs": [
    {
     "data": {
      "image/png": "[encoded data removed]",
      "text/plain": [
       "<Figure size 360x360 with 1 Axes>"
      ]
     },
     "metadata": {
      "needs_background": "light"
     },
     "output_type": "display_data"
    }
   ],
   "source": [
    "# Make a 2d plot\n",
    "fig = plt.figure(figsize=(figwidth_size, figheigth_size))\n",
    "ax = fig.add_subplot(1, 1, 1, projection = '3d')\n",
    "regionalln_skel_plot = regionalln_skel[np.in1d(regionalln_skel.id, [5813018729])]\n",
    "regional_col = [0.721, 0.0, 0.407]\n",
    "ax = plotmorphotypeskeletons(plotting_skel = regionalln_skel_plot, color = regional_col, \n",
    "                             scaling_skel = scaling_skel, axes = ax)"
   ]
  },
  {
   "cell_type": "markdown",
   "metadata": {},
   "source": [
    "### broad"
   ]
  },
  {
   "cell_type": "code",
   "execution_count": 36,
   "metadata": {},
   "outputs": [
    {
     "data": {
      "image/png": "[encoded data removed]",
      "text/plain": [
       "<Figure size 360x360 with 1 Axes>"
      ]
     },
     "metadata": {
      "needs_background": "light"
     },
     "output_type": "display_data"
    }
   ],
   "source": [
    "# Make a 2d plot\n",
    "fig = plt.figure(figsize=(figwidth_size, figheigth_size))\n",
    "ax = fig.add_subplot(1, 1, 1, projection = '3d')\n",
    "broadln_skel_plot = broadln_skel[np.in1d(broadln_skel.id, [5813130064])]\n",
    "broad_col = [0.047, 0.376, 0.698]\n",
    "ax = plotmorphotypeskeletons(plotting_skel = broadln_skel_plot, color = broad_col, \n",
    "                             scaling_skel = scaling_skel, axes = ax)"
   ]
  },
  {
   "cell_type": "markdown",
   "metadata": {},
   "source": [
    "### patchy"
   ]
  },
  {
   "cell_type": "code",
   "execution_count": 37,
   "metadata": {},
   "outputs": [
    {
     "data": {
      "image/png": "[encoded data removed]",
      "text/plain": [
       "<Figure size 360x360 with 1 Axes>"
      ]
     },
     "metadata": {
      "needs_background": "light"
     },
     "output_type": "display_data"
    }
   ],
   "source": [
    "# Make a 2d plot\n",
    "fig = plt.figure(figsize=(figwidth_size, figheigth_size))\n",
    "ax = fig.add_subplot(1, 1, 1, projection = '3d')\n",
    "patchyln_skel_plot = patchyln_skel[np.in1d(patchyln_skel.id, [1670916819])]\n",
    "patchy_col = [0.631, 0.847, 0.921]\n",
    "ax = plotmorphotypeskeletons(plotting_skel = patchyln_skel_plot, color = patchy_col, \n",
    "                             scaling_skel = scaling_skel, axes = ax)"
   ]
  },
  {
   "cell_type": "code",
   "execution_count": null,
   "metadata": {},
   "outputs": [],
   "source": []
  },
  {
   "cell_type": "code",
   "execution_count": null,
   "metadata": {},
   "outputs": [],
   "source": []
  }
 ],
 "metadata": {
  "kernelspec": {
   "display_name": "Python 3",
   "language": "python",
   "name": "python3"
  },
  "language_info": {
   "codemirror_mode": {
    "name": "ipython",
    "version": 3
   },
   "file_extension": ".py",
   "mimetype": "text/x-python",
   "name": "python",
   "nbconvert_exporter": "python",
   "pygments_lexer": "ipython3",
   "version": "3.7.3"
  }
 },
 "nbformat": 4,
 "nbformat_minor": 2
}
